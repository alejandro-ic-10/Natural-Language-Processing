{
 "cells": [
  {
   "cell_type": "markdown",
   "id": "862ef56f-e18e-48dc-88b8-44b0e935f16b",
   "metadata": {},
   "source": [
    "# PROGRAMA 2"
   ]
  },
  {
   "cell_type": "markdown",
   "id": "bbc6f47b-be27-45f5-808a-a6cef257cf83",
   "metadata": {},
   "source": [
    "## Objetivo:\n",
    "- Implementación de una red neuronal para la detección de ciberacoso a partir de una recopilación de tweets (actualmente X's).erior uso."
   ]
  },
  {
   "cell_type": "markdown",
   "id": "4b436375-81a7-4bfc-80d3-74a6577066b3",
   "metadata": {},
   "source": [
    "## Tratamiento y visualización de los datos"
   ]
  },
  {
   "cell_type": "code",
   "execution_count": 1,
   "id": "dd2fffc9-a3c7-48f1-87b6-0773e2817502",
   "metadata": {},
   "outputs": [
    {
     "data": {
      "text/html": [
       "<div>\n",
       "<style scoped>\n",
       "    .dataframe tbody tr th:only-of-type {\n",
       "        vertical-align: middle;\n",
       "    }\n",
       "\n",
       "    .dataframe tbody tr th {\n",
       "        vertical-align: top;\n",
       "    }\n",
       "\n",
       "    .dataframe thead th {\n",
       "        text-align: right;\n",
       "    }\n",
       "</style>\n",
       "<table border=\"1\" class=\"dataframe\">\n",
       "  <thead>\n",
       "    <tr style=\"text-align: right;\">\n",
       "      <th></th>\n",
       "      <th>tweet_text</th>\n",
       "      <th>cyberbullying_type</th>\n",
       "    </tr>\n",
       "  </thead>\n",
       "  <tbody>\n",
       "    <tr>\n",
       "      <th>0</th>\n",
       "      <td>@AntonSirius @erinspice @prpltnkr @ChiefElk oh...</td>\n",
       "      <td>other_cyberbullying</td>\n",
       "    </tr>\n",
       "    <tr>\n",
       "      <th>1</th>\n",
       "      <td>Ladies \"Bedroom Bully\" The Mix Cd By @GappyRan...</td>\n",
       "      <td>not_cyberbullying</td>\n",
       "    </tr>\n",
       "    <tr>\n",
       "      <th>2</th>\n",
       "      <td>RT @_bobbidana: Never thought I'd say this but...</td>\n",
       "      <td>not_cyberbullying</td>\n",
       "    </tr>\n",
       "    <tr>\n",
       "      <th>3</th>\n",
       "      <td>She is intellectual terrorists and world suffe...</td>\n",
       "      <td>religion</td>\n",
       "    </tr>\n",
       "    <tr>\n",
       "      <th>4</th>\n",
       "      <td>You saudias are not friends of Muslim idiots c...</td>\n",
       "      <td>religion</td>\n",
       "    </tr>\n",
       "  </tbody>\n",
       "</table>\n",
       "</div>"
      ],
      "text/plain": [
       "                                          tweet_text   cyberbullying_type\n",
       "0  @AntonSirius @erinspice @prpltnkr @ChiefElk oh...  other_cyberbullying\n",
       "1  Ladies \"Bedroom Bully\" The Mix Cd By @GappyRan...    not_cyberbullying\n",
       "2  RT @_bobbidana: Never thought I'd say this but...    not_cyberbullying\n",
       "3  She is intellectual terrorists and world suffe...             religion\n",
       "4  You saudias are not friends of Muslim idiots c...             religion"
      ]
     },
     "execution_count": 1,
     "metadata": {},
     "output_type": "execute_result"
    }
   ],
   "source": [
    "#Importación de los datos\n",
    "import pandas as pd\n",
    "data_train = pd.read_csv('E:\\MATERIAS CURSADAS\\ONCEAVO SEMESTRE\\PLN\\cyberbullying_train.csv')\n",
    "data_test = pd.read_csv('E:\\MATERIAS CURSADAS\\ONCEAVO SEMESTRE\\PLN\\cyberbullying_test.csv')\n",
    "data_valid = pd.read_csv('E:\\MATERIAS CURSADAS\\ONCEAVO SEMESTRE\\PLN\\cyberbullying_val.csv')\n",
    "\n",
    "data_train.head()"
   ]
  },
  {
   "cell_type": "code",
   "execution_count": 2,
   "id": "2b0016f6",
   "metadata": {},
   "outputs": [
    {
     "data": {
      "text/html": [
       "<div>\n",
       "<style scoped>\n",
       "    .dataframe tbody tr th:only-of-type {\n",
       "        vertical-align: middle;\n",
       "    }\n",
       "\n",
       "    .dataframe tbody tr th {\n",
       "        vertical-align: top;\n",
       "    }\n",
       "\n",
       "    .dataframe thead th {\n",
       "        text-align: right;\n",
       "    }\n",
       "</style>\n",
       "<table border=\"1\" class=\"dataframe\">\n",
       "  <thead>\n",
       "    <tr style=\"text-align: right;\">\n",
       "      <th></th>\n",
       "      <th>tweet_text</th>\n",
       "      <th>cyberbullying_type</th>\n",
       "    </tr>\n",
       "  </thead>\n",
       "  <tbody>\n",
       "    <tr>\n",
       "      <th>0</th>\n",
       "      <td>@dankmtl Yeap, as a little Propaganda Nazi for...</td>\n",
       "      <td>religion</td>\n",
       "    </tr>\n",
       "    <tr>\n",
       "      <th>1</th>\n",
       "      <td>@LyndseyBoo wow!! Leave lyndsey phone alone!!!...</td>\n",
       "      <td>other_cyberbullying</td>\n",
       "    </tr>\n",
       "    <tr>\n",
       "      <th>2</th>\n",
       "      <td>I'm not a man, only know how to bully people :(</td>\n",
       "      <td>other_cyberbullying</td>\n",
       "    </tr>\n",
       "    <tr>\n",
       "      <th>3</th>\n",
       "      <td>@urgedharry @nyazpolitics @greenlinerzjm If yo...</td>\n",
       "      <td>religion</td>\n",
       "    </tr>\n",
       "    <tr>\n",
       "      <th>4</th>\n",
       "      <td>Calling people dumb isnt nice :( RT @tayyoung_...</td>\n",
       "      <td>ethnicity</td>\n",
       "    </tr>\n",
       "  </tbody>\n",
       "</table>\n",
       "</div>"
      ],
      "text/plain": [
       "                                          tweet_text   cyberbullying_type\n",
       "0  @dankmtl Yeap, as a little Propaganda Nazi for...             religion\n",
       "1  @LyndseyBoo wow!! Leave lyndsey phone alone!!!...  other_cyberbullying\n",
       "2    I'm not a man, only know how to bully people :(  other_cyberbullying\n",
       "3  @urgedharry @nyazpolitics @greenlinerzjm If yo...             religion\n",
       "4  Calling people dumb isnt nice :( RT @tayyoung_...            ethnicity"
      ]
     },
     "execution_count": 2,
     "metadata": {},
     "output_type": "execute_result"
    }
   ],
   "source": [
    "data_test.head()"
   ]
  },
  {
   "cell_type": "code",
   "execution_count": 3,
   "id": "c36a89c4",
   "metadata": {},
   "outputs": [
    {
     "data": {
      "text/html": [
       "<div>\n",
       "<style scoped>\n",
       "    .dataframe tbody tr th:only-of-type {\n",
       "        vertical-align: middle;\n",
       "    }\n",
       "\n",
       "    .dataframe tbody tr th {\n",
       "        vertical-align: top;\n",
       "    }\n",
       "\n",
       "    .dataframe thead th {\n",
       "        text-align: right;\n",
       "    }\n",
       "</style>\n",
       "<table border=\"1\" class=\"dataframe\">\n",
       "  <thead>\n",
       "    <tr style=\"text-align: right;\">\n",
       "      <th></th>\n",
       "      <th>tweet_text</th>\n",
       "      <th>cyberbullying_type</th>\n",
       "    </tr>\n",
       "  </thead>\n",
       "  <tbody>\n",
       "    <tr>\n",
       "      <th>0</th>\n",
       "      <td>But you idiot tagged and more also I'm a Muslim</td>\n",
       "      <td>religion</td>\n",
       "    </tr>\n",
       "    <tr>\n",
       "      <th>1</th>\n",
       "      <td>@SEXYLALA That's a dumb nigger never fuck LALA...</td>\n",
       "      <td>ethnicity</td>\n",
       "    </tr>\n",
       "    <tr>\n",
       "      <th>2</th>\n",
       "      <td>I never hear hispanics calling each other brow...</td>\n",
       "      <td>ethnicity</td>\n",
       "    </tr>\n",
       "    <tr>\n",
       "      <th>3</th>\n",
       "      <td>@Lenny_Banx nigger read it again such a dumb a...</td>\n",
       "      <td>ethnicity</td>\n",
       "    </tr>\n",
       "    <tr>\n",
       "      <th>4</th>\n",
       "      <td>She was a mean girl in high school. She and Mi...</td>\n",
       "      <td>age</td>\n",
       "    </tr>\n",
       "  </tbody>\n",
       "</table>\n",
       "</div>"
      ],
      "text/plain": [
       "                                          tweet_text cyberbullying_type\n",
       "0    But you idiot tagged and more also I'm a Muslim           religion\n",
       "1  @SEXYLALA That's a dumb nigger never fuck LALA...          ethnicity\n",
       "2  I never hear hispanics calling each other brow...          ethnicity\n",
       "3  @Lenny_Banx nigger read it again such a dumb a...          ethnicity\n",
       "4  She was a mean girl in high school. She and Mi...                age"
      ]
     },
     "execution_count": 3,
     "metadata": {},
     "output_type": "execute_result"
    }
   ],
   "source": [
    "data_valid.head()"
   ]
  },
  {
   "cell_type": "code",
   "execution_count": 4,
   "id": "acf07cb9",
   "metadata": {},
   "outputs": [
    {
     "data": {
      "text/plain": [
       "('2.4.1+cpu', '3.5.0')"
      ]
     },
     "execution_count": 4,
     "metadata": {},
     "output_type": "execute_result"
    }
   ],
   "source": [
    "#Bibliotecas necesarias\n",
    "import os\n",
    "os.environ['TF_CPP_MIN_LOG_LEVEL'] = '3' # Disable tensorflow debugging logs\n",
    "os.environ[\"KERAS_BACKEND\"] = \"torch\"\n",
    "import keras\n",
    "import torch\n",
    "\n",
    "torch.__version__, keras.__version__"
   ]
  },
  {
   "cell_type": "markdown",
   "id": "c094701d",
   "metadata": {},
   "source": [
    "Para el tratamiento de los datos se eliminaron cadenas vacías, textos repetidos así como la puntuación y caracteres especiales dado que se trataba de tweets, los cuales llegan a tener emojis. No se tuvo que modificar de alguna manera las columnas ni separación de archivos dado que ya viene separado por definición en conjuntos de entrenamiento, prueba y evaluación."
   ]
  },
  {
   "cell_type": "markdown",
   "id": "d779663f",
   "metadata": {},
   "source": [
    "- Verificación de cadenas vacías"
   ]
  },
  {
   "cell_type": "code",
   "execution_count": 5,
   "id": "23190ec7",
   "metadata": {},
   "outputs": [
    {
     "name": "stdout",
     "output_type": "stream",
     "text": [
      "0 0 0\n"
     ]
    }
   ],
   "source": [
    "cv_train = data_train['tweet_text'].isna().sum()\n",
    "cv_test = data_test['tweet_text'].isna().sum()\n",
    "cv_val = data_valid['tweet_text'].isna().sum()\n",
    "\n",
    "print(cv_train, cv_test, cv_val)"
   ]
  },
  {
   "cell_type": "code",
   "execution_count": 6,
   "id": "1cd41203",
   "metadata": {},
   "outputs": [
    {
     "data": {
      "text/plain": [
       "33384"
      ]
     },
     "execution_count": 6,
     "metadata": {},
     "output_type": "execute_result"
    }
   ],
   "source": [
    "len(data_train)"
   ]
  },
  {
   "cell_type": "markdown",
   "id": "ad2814dc",
   "metadata": {},
   "source": [
    "- Eliminación de duplicados"
   ]
  },
  {
   "cell_type": "code",
   "execution_count": 7,
   "id": "d409bed2",
   "metadata": {},
   "outputs": [
    {
     "data": {
      "text/plain": [
       "32534"
      ]
     },
     "execution_count": 7,
     "metadata": {},
     "output_type": "execute_result"
    }
   ],
   "source": [
    "data_train = data_train.drop_duplicates(subset=['tweet_text'])\n",
    "len(data_train)"
   ]
  },
  {
   "cell_type": "code",
   "execution_count": 8,
   "id": "00c1d7c9",
   "metadata": {},
   "outputs": [
    {
     "data": {
      "text/plain": [
       "7119"
      ]
     },
     "execution_count": 8,
     "metadata": {},
     "output_type": "execute_result"
    }
   ],
   "source": [
    "data_test = data_test.drop_duplicates(subset=['tweet_text'])\n",
    "len(data_test)"
   ]
  },
  {
   "cell_type": "code",
   "execution_count": 9,
   "id": "e46277e2",
   "metadata": {},
   "outputs": [
    {
     "data": {
      "text/plain": [
       "7118"
      ]
     },
     "execution_count": 9,
     "metadata": {},
     "output_type": "execute_result"
    }
   ],
   "source": [
    "data_valid = data_valid.drop_duplicates(subset=['tweet_text'])\n",
    "len(data_valid)"
   ]
  },
  {
   "cell_type": "code",
   "execution_count": 10,
   "id": "aa72bd94",
   "metadata": {},
   "outputs": [
    {
     "data": {
      "text/html": [
       "<div>\n",
       "<style scoped>\n",
       "    .dataframe tbody tr th:only-of-type {\n",
       "        vertical-align: middle;\n",
       "    }\n",
       "\n",
       "    .dataframe tbody tr th {\n",
       "        vertical-align: top;\n",
       "    }\n",
       "\n",
       "    .dataframe thead th {\n",
       "        text-align: right;\n",
       "    }\n",
       "</style>\n",
       "<table border=\"1\" class=\"dataframe\">\n",
       "  <thead>\n",
       "    <tr style=\"text-align: right;\">\n",
       "      <th></th>\n",
       "      <th>tweet_text</th>\n",
       "      <th>cyberbullying_type</th>\n",
       "    </tr>\n",
       "  </thead>\n",
       "  <tbody>\n",
       "    <tr>\n",
       "      <th>17111</th>\n",
       "      <td>&amp;amp; you might not get ya bitch back &amp;amp; t...</td>\n",
       "      <td>gender</td>\n",
       "    </tr>\n",
       "    <tr>\n",
       "      <th>2125</th>\n",
       "      <td>@rhythmixx_ :hobbies include: fighting Mariam</td>\n",
       "      <td>other_cyberbullying</td>\n",
       "    </tr>\n",
       "    <tr>\n",
       "      <th>16387</th>\n",
       "      <td>I fucking hate you</td>\n",
       "      <td>gender</td>\n",
       "    </tr>\n",
       "    <tr>\n",
       "      <th>4867</th>\n",
       "      <td>Keeks is a bitch she curves everyone  lol I w...</td>\n",
       "      <td>gender</td>\n",
       "    </tr>\n",
       "    <tr>\n",
       "      <th>26032</th>\n",
       "      <td>Murda Gang bitch its Gang Land</td>\n",
       "      <td>other_cyberbullying</td>\n",
       "    </tr>\n",
       "    <tr>\n",
       "      <th>...</th>\n",
       "      <td>...</td>\n",
       "      <td>...</td>\n",
       "    </tr>\n",
       "    <tr>\n",
       "      <th>31103</th>\n",
       "      <td>💕💕 the smell of blocks in the morning 💕💕</td>\n",
       "      <td>other_cyberbullying</td>\n",
       "    </tr>\n",
       "    <tr>\n",
       "      <th>30583</th>\n",
       "      <td>💩</td>\n",
       "      <td>other_cyberbullying</td>\n",
       "    </tr>\n",
       "    <tr>\n",
       "      <th>17401</th>\n",
       "      <td>😂😂😂 shame @ kat &amp;amp; andre #MKR</td>\n",
       "      <td>not_cyberbullying</td>\n",
       "    </tr>\n",
       "    <tr>\n",
       "      <th>24219</th>\n",
       "      <td>😂😂😂😂😂</td>\n",
       "      <td>gender</td>\n",
       "    </tr>\n",
       "    <tr>\n",
       "      <th>6333</th>\n",
       "      <td>😘 http://t.co/2QGNWHP3DE</td>\n",
       "      <td>other_cyberbullying</td>\n",
       "    </tr>\n",
       "  </tbody>\n",
       "</table>\n",
       "<p>32534 rows × 2 columns</p>\n",
       "</div>"
      ],
      "text/plain": [
       "                                              tweet_text   cyberbullying_type\n",
       "17111   &amp; you might not get ya bitch back &amp; t...               gender\n",
       "2125       @rhythmixx_ :hobbies include: fighting Mariam  other_cyberbullying\n",
       "16387                                 I fucking hate you               gender\n",
       "4867    Keeks is a bitch she curves everyone  lol I w...               gender\n",
       "26032                    Murda Gang bitch its Gang Land   other_cyberbullying\n",
       "...                                                  ...                  ...\n",
       "31103           💕💕 the smell of blocks in the morning 💕💕  other_cyberbullying\n",
       "30583                                                  💩  other_cyberbullying\n",
       "17401                   😂😂😂 shame @ kat &amp; andre #MKR    not_cyberbullying\n",
       "24219                                              😂😂😂😂😂               gender\n",
       "6333                            😘 http://t.co/2QGNWHP3DE  other_cyberbullying\n",
       "\n",
       "[32534 rows x 2 columns]"
      ]
     },
     "execution_count": 10,
     "metadata": {},
     "output_type": "execute_result"
    }
   ],
   "source": [
    "data_train.sort_values(by='tweet_text', ascending=True, inplace=False)"
   ]
  },
  {
   "cell_type": "markdown",
   "id": "c549b712",
   "metadata": {},
   "source": [
    "- Eliminar cadenas de espacios"
   ]
  },
  {
   "cell_type": "code",
   "execution_count": 11,
   "id": "3d644d98",
   "metadata": {},
   "outputs": [
    {
     "data": {
      "text/html": [
       "<div>\n",
       "<style scoped>\n",
       "    .dataframe tbody tr th:only-of-type {\n",
       "        vertical-align: middle;\n",
       "    }\n",
       "\n",
       "    .dataframe tbody tr th {\n",
       "        vertical-align: top;\n",
       "    }\n",
       "\n",
       "    .dataframe thead th {\n",
       "        text-align: right;\n",
       "    }\n",
       "</style>\n",
       "<table border=\"1\" class=\"dataframe\">\n",
       "  <thead>\n",
       "    <tr style=\"text-align: right;\">\n",
       "      <th></th>\n",
       "      <th>tweet_text</th>\n",
       "      <th>cyberbullying_type</th>\n",
       "    </tr>\n",
       "  </thead>\n",
       "  <tbody>\n",
       "    <tr>\n",
       "      <th>0</th>\n",
       "      <td>@AntonSirius @erinspice @prpltnkr @ChiefElk oh...</td>\n",
       "      <td>other_cyberbullying</td>\n",
       "    </tr>\n",
       "    <tr>\n",
       "      <th>1</th>\n",
       "      <td>Ladies \"Bedroom Bully\" The Mix Cd By @GappyRan...</td>\n",
       "      <td>not_cyberbullying</td>\n",
       "    </tr>\n",
       "    <tr>\n",
       "      <th>2</th>\n",
       "      <td>RT @_bobbidana: Never thought I'd say this but...</td>\n",
       "      <td>not_cyberbullying</td>\n",
       "    </tr>\n",
       "    <tr>\n",
       "      <th>3</th>\n",
       "      <td>She is intellectual terrorists and world suffe...</td>\n",
       "      <td>religion</td>\n",
       "    </tr>\n",
       "    <tr>\n",
       "      <th>4</th>\n",
       "      <td>You saudias are not friends of Muslim idiots c...</td>\n",
       "      <td>religion</td>\n",
       "    </tr>\n",
       "    <tr>\n",
       "      <th>...</th>\n",
       "      <td>...</td>\n",
       "      <td>...</td>\n",
       "    </tr>\n",
       "    <tr>\n",
       "      <th>33378</th>\n",
       "      <td>Just asking which people on the planet weren't...</td>\n",
       "      <td>ethnicity</td>\n",
       "    </tr>\n",
       "    <tr>\n",
       "      <th>33379</th>\n",
       "      <td>Missing school for the Grey Cup festivall at N...</td>\n",
       "      <td>not_cyberbullying</td>\n",
       "    </tr>\n",
       "    <tr>\n",
       "      <th>33380</th>\n",
       "      <td>Seriously, \"lady\" is what my mom calls her clo...</td>\n",
       "      <td>gender</td>\n",
       "    </tr>\n",
       "    <tr>\n",
       "      <th>33381</th>\n",
       "      <td>Same as religion, one rule for muslims ,one ru...</td>\n",
       "      <td>religion</td>\n",
       "    </tr>\n",
       "    <tr>\n",
       "      <th>33383</th>\n",
       "      <td>CLOUD (edited): “It’s lazy for a comedian to b...</td>\n",
       "      <td>gender</td>\n",
       "    </tr>\n",
       "  </tbody>\n",
       "</table>\n",
       "<p>32534 rows × 2 columns</p>\n",
       "</div>"
      ],
      "text/plain": [
       "                                              tweet_text   cyberbullying_type\n",
       "0      @AntonSirius @erinspice @prpltnkr @ChiefElk oh...  other_cyberbullying\n",
       "1      Ladies \"Bedroom Bully\" The Mix Cd By @GappyRan...    not_cyberbullying\n",
       "2      RT @_bobbidana: Never thought I'd say this but...    not_cyberbullying\n",
       "3      She is intellectual terrorists and world suffe...             religion\n",
       "4      You saudias are not friends of Muslim idiots c...             religion\n",
       "...                                                  ...                  ...\n",
       "33378  Just asking which people on the planet weren't...            ethnicity\n",
       "33379  Missing school for the Grey Cup festivall at N...    not_cyberbullying\n",
       "33380  Seriously, \"lady\" is what my mom calls her clo...               gender\n",
       "33381  Same as religion, one rule for muslims ,one ru...             religion\n",
       "33383  CLOUD (edited): “It’s lazy for a comedian to b...               gender\n",
       "\n",
       "[32534 rows x 2 columns]"
      ]
     },
     "execution_count": 11,
     "metadata": {},
     "output_type": "execute_result"
    }
   ],
   "source": [
    "data_train = data_train[data_train['tweet_text'].str.strip() != '']\n",
    "data_train"
   ]
  },
  {
   "cell_type": "code",
   "execution_count": 12,
   "id": "a0e020b1",
   "metadata": {},
   "outputs": [
    {
     "data": {
      "text/html": [
       "<div>\n",
       "<style scoped>\n",
       "    .dataframe tbody tr th:only-of-type {\n",
       "        vertical-align: middle;\n",
       "    }\n",
       "\n",
       "    .dataframe tbody tr th {\n",
       "        vertical-align: top;\n",
       "    }\n",
       "\n",
       "    .dataframe thead th {\n",
       "        text-align: right;\n",
       "    }\n",
       "</style>\n",
       "<table border=\"1\" class=\"dataframe\">\n",
       "  <thead>\n",
       "    <tr style=\"text-align: right;\">\n",
       "      <th></th>\n",
       "      <th>tweet_text</th>\n",
       "      <th>cyberbullying_type</th>\n",
       "    </tr>\n",
       "  </thead>\n",
       "  <tbody>\n",
       "    <tr>\n",
       "      <th>0</th>\n",
       "      <td>@dankmtl Yeap, as a little Propaganda Nazi for...</td>\n",
       "      <td>religion</td>\n",
       "    </tr>\n",
       "    <tr>\n",
       "      <th>1</th>\n",
       "      <td>@LyndseyBoo wow!! Leave lyndsey phone alone!!!...</td>\n",
       "      <td>other_cyberbullying</td>\n",
       "    </tr>\n",
       "    <tr>\n",
       "      <th>2</th>\n",
       "      <td>I'm not a man, only know how to bully people :(</td>\n",
       "      <td>other_cyberbullying</td>\n",
       "    </tr>\n",
       "    <tr>\n",
       "      <th>3</th>\n",
       "      <td>@urgedharry @nyazpolitics @greenlinerzjm If yo...</td>\n",
       "      <td>religion</td>\n",
       "    </tr>\n",
       "    <tr>\n",
       "      <th>4</th>\n",
       "      <td>Calling people dumb isnt nice :( RT @tayyoung_...</td>\n",
       "      <td>ethnicity</td>\n",
       "    </tr>\n",
       "    <tr>\n",
       "      <th>...</th>\n",
       "      <td>...</td>\n",
       "      <td>...</td>\n",
       "    </tr>\n",
       "    <tr>\n",
       "      <th>7149</th>\n",
       "      <td>@gameragodzilla @Totalbiscuit @Grummz @BenKuch...</td>\n",
       "      <td>other_cyberbullying</td>\n",
       "    </tr>\n",
       "    <tr>\n",
       "      <th>7150</th>\n",
       "      <td>Everyone upset about Amy Schumer's gay jokes s...</td>\n",
       "      <td>gender</td>\n",
       "    </tr>\n",
       "    <tr>\n",
       "      <th>7151</th>\n",
       "      <td>The way that every pyramid scheme girl was a b...</td>\n",
       "      <td>age</td>\n",
       "    </tr>\n",
       "    <tr>\n",
       "      <th>7152</th>\n",
       "      <td>bro you can bully the kids at school but you c...</td>\n",
       "      <td>age</td>\n",
       "    </tr>\n",
       "    <tr>\n",
       "      <th>7153</th>\n",
       "      <td>@Stevie_Bull saw yow pullin out of the Molindu...</td>\n",
       "      <td>other_cyberbullying</td>\n",
       "    </tr>\n",
       "  </tbody>\n",
       "</table>\n",
       "<p>7119 rows × 2 columns</p>\n",
       "</div>"
      ],
      "text/plain": [
       "                                             tweet_text   cyberbullying_type\n",
       "0     @dankmtl Yeap, as a little Propaganda Nazi for...             religion\n",
       "1     @LyndseyBoo wow!! Leave lyndsey phone alone!!!...  other_cyberbullying\n",
       "2       I'm not a man, only know how to bully people :(  other_cyberbullying\n",
       "3     @urgedharry @nyazpolitics @greenlinerzjm If yo...             religion\n",
       "4     Calling people dumb isnt nice :( RT @tayyoung_...            ethnicity\n",
       "...                                                 ...                  ...\n",
       "7149  @gameragodzilla @Totalbiscuit @Grummz @BenKuch...  other_cyberbullying\n",
       "7150  Everyone upset about Amy Schumer's gay jokes s...               gender\n",
       "7151  The way that every pyramid scheme girl was a b...                  age\n",
       "7152  bro you can bully the kids at school but you c...                  age\n",
       "7153  @Stevie_Bull saw yow pullin out of the Molindu...  other_cyberbullying\n",
       "\n",
       "[7119 rows x 2 columns]"
      ]
     },
     "execution_count": 12,
     "metadata": {},
     "output_type": "execute_result"
    }
   ],
   "source": [
    "data_test = data_test[data_test['tweet_text'].str.strip() != '']\n",
    "data_test"
   ]
  },
  {
   "cell_type": "code",
   "execution_count": 13,
   "id": "9d0eb551",
   "metadata": {},
   "outputs": [
    {
     "data": {
      "text/html": [
       "<div>\n",
       "<style scoped>\n",
       "    .dataframe tbody tr th:only-of-type {\n",
       "        vertical-align: middle;\n",
       "    }\n",
       "\n",
       "    .dataframe tbody tr th {\n",
       "        vertical-align: top;\n",
       "    }\n",
       "\n",
       "    .dataframe thead th {\n",
       "        text-align: right;\n",
       "    }\n",
       "</style>\n",
       "<table border=\"1\" class=\"dataframe\">\n",
       "  <thead>\n",
       "    <tr style=\"text-align: right;\">\n",
       "      <th></th>\n",
       "      <th>tweet_text</th>\n",
       "      <th>cyberbullying_type</th>\n",
       "    </tr>\n",
       "  </thead>\n",
       "  <tbody>\n",
       "    <tr>\n",
       "      <th>0</th>\n",
       "      <td>But you idiot tagged and more also I'm a Muslim</td>\n",
       "      <td>religion</td>\n",
       "    </tr>\n",
       "    <tr>\n",
       "      <th>1</th>\n",
       "      <td>@SEXYLALA That's a dumb nigger never fuck LALA...</td>\n",
       "      <td>ethnicity</td>\n",
       "    </tr>\n",
       "    <tr>\n",
       "      <th>2</th>\n",
       "      <td>I never hear hispanics calling each other brow...</td>\n",
       "      <td>ethnicity</td>\n",
       "    </tr>\n",
       "    <tr>\n",
       "      <th>3</th>\n",
       "      <td>@Lenny_Banx nigger read it again such a dumb a...</td>\n",
       "      <td>ethnicity</td>\n",
       "    </tr>\n",
       "    <tr>\n",
       "      <th>4</th>\n",
       "      <td>She was a mean girl in high school. She and Mi...</td>\n",
       "      <td>age</td>\n",
       "    </tr>\n",
       "    <tr>\n",
       "      <th>...</th>\n",
       "      <td>...</td>\n",
       "      <td>...</td>\n",
       "    </tr>\n",
       "    <tr>\n",
       "      <th>7149</th>\n",
       "      <td>haha.erdogan started syrian conflict or the we...</td>\n",
       "      <td>religion</td>\n",
       "    </tr>\n",
       "    <tr>\n",
       "      <th>7150</th>\n",
       "      <td>@discerningmumin That's idiotic. Not holding a...</td>\n",
       "      <td>religion</td>\n",
       "    </tr>\n",
       "    <tr>\n",
       "      <th>7151</th>\n",
       "      <td>This is way past George Floyd. Everyone is agr...</td>\n",
       "      <td>ethnicity</td>\n",
       "    </tr>\n",
       "    <tr>\n",
       "      <th>7152</th>\n",
       "      <td>I'm not important. The things I'm working on a...</td>\n",
       "      <td>other_cyberbullying</td>\n",
       "    </tr>\n",
       "    <tr>\n",
       "      <th>7153</th>\n",
       "      <td>Nah I really felt this. I had friends who I fe...</td>\n",
       "      <td>age</td>\n",
       "    </tr>\n",
       "  </tbody>\n",
       "</table>\n",
       "<p>7118 rows × 2 columns</p>\n",
       "</div>"
      ],
      "text/plain": [
       "                                             tweet_text   cyberbullying_type\n",
       "0       But you idiot tagged and more also I'm a Muslim             religion\n",
       "1     @SEXYLALA That's a dumb nigger never fuck LALA...            ethnicity\n",
       "2     I never hear hispanics calling each other brow...            ethnicity\n",
       "3     @Lenny_Banx nigger read it again such a dumb a...            ethnicity\n",
       "4     She was a mean girl in high school. She and Mi...                  age\n",
       "...                                                 ...                  ...\n",
       "7149  haha.erdogan started syrian conflict or the we...             religion\n",
       "7150  @discerningmumin That's idiotic. Not holding a...             religion\n",
       "7151  This is way past George Floyd. Everyone is agr...            ethnicity\n",
       "7152  I'm not important. The things I'm working on a...  other_cyberbullying\n",
       "7153  Nah I really felt this. I had friends who I fe...                  age\n",
       "\n",
       "[7118 rows x 2 columns]"
      ]
     },
     "execution_count": 13,
     "metadata": {},
     "output_type": "execute_result"
    }
   ],
   "source": [
    "data_valid = data_valid[data_valid['tweet_text'].str.strip() != '']\n",
    "data_valid"
   ]
  },
  {
   "cell_type": "markdown",
   "id": "d1d6d0d0",
   "metadata": {},
   "source": [
    "- Se elimina toda la puntuación "
   ]
  },
  {
   "cell_type": "code",
   "execution_count": 14,
   "id": "1850a8da",
   "metadata": {},
   "outputs": [],
   "source": [
    "import string"
   ]
  },
  {
   "cell_type": "code",
   "execution_count": 15,
   "id": "79a52c63",
   "metadata": {},
   "outputs": [
    {
     "data": {
      "text/html": [
       "<div>\n",
       "<style scoped>\n",
       "    .dataframe tbody tr th:only-of-type {\n",
       "        vertical-align: middle;\n",
       "    }\n",
       "\n",
       "    .dataframe tbody tr th {\n",
       "        vertical-align: top;\n",
       "    }\n",
       "\n",
       "    .dataframe thead th {\n",
       "        text-align: right;\n",
       "    }\n",
       "</style>\n",
       "<table border=\"1\" class=\"dataframe\">\n",
       "  <thead>\n",
       "    <tr style=\"text-align: right;\">\n",
       "      <th></th>\n",
       "      <th>tweet_text</th>\n",
       "      <th>cyberbullying_type</th>\n",
       "    </tr>\n",
       "  </thead>\n",
       "  <tbody>\n",
       "    <tr>\n",
       "      <th>0</th>\n",
       "      <td>antonsirius erinspice prpltnkr chiefelk oh dea...</td>\n",
       "      <td>other_cyberbullying</td>\n",
       "    </tr>\n",
       "    <tr>\n",
       "      <th>1</th>\n",
       "      <td>ladies bedroom bully the mix cd by gappyranks ...</td>\n",
       "      <td>not_cyberbullying</td>\n",
       "    </tr>\n",
       "    <tr>\n",
       "      <th>2</th>\n",
       "      <td>rt bobbidana never thought id say this but i h...</td>\n",
       "      <td>not_cyberbullying</td>\n",
       "    </tr>\n",
       "    <tr>\n",
       "      <th>3</th>\n",
       "      <td>she is intellectual terrorists and world suffe...</td>\n",
       "      <td>religion</td>\n",
       "    </tr>\n",
       "    <tr>\n",
       "      <th>4</th>\n",
       "      <td>you saudias are not friends of muslim idiots c...</td>\n",
       "      <td>religion</td>\n",
       "    </tr>\n",
       "  </tbody>\n",
       "</table>\n",
       "</div>"
      ],
      "text/plain": [
       "                                          tweet_text   cyberbullying_type\n",
       "0  antonsirius erinspice prpltnkr chiefelk oh dea...  other_cyberbullying\n",
       "1  ladies bedroom bully the mix cd by gappyranks ...    not_cyberbullying\n",
       "2  rt bobbidana never thought id say this but i h...    not_cyberbullying\n",
       "3  she is intellectual terrorists and world suffe...             religion\n",
       "4  you saudias are not friends of muslim idiots c...             religion"
      ]
     },
     "execution_count": 15,
     "metadata": {},
     "output_type": "execute_result"
    }
   ],
   "source": [
    "data_train['tweet_text'] = data_train['tweet_text'].str.lower().str.translate(str.maketrans('', '', string.punctuation))\n",
    "data_train.head()"
   ]
  },
  {
   "cell_type": "code",
   "execution_count": 16,
   "id": "d50fee8c",
   "metadata": {},
   "outputs": [
    {
     "data": {
      "text/html": [
       "<div>\n",
       "<style scoped>\n",
       "    .dataframe tbody tr th:only-of-type {\n",
       "        vertical-align: middle;\n",
       "    }\n",
       "\n",
       "    .dataframe tbody tr th {\n",
       "        vertical-align: top;\n",
       "    }\n",
       "\n",
       "    .dataframe thead th {\n",
       "        text-align: right;\n",
       "    }\n",
       "</style>\n",
       "<table border=\"1\" class=\"dataframe\">\n",
       "  <thead>\n",
       "    <tr style=\"text-align: right;\">\n",
       "      <th></th>\n",
       "      <th>tweet_text</th>\n",
       "      <th>cyberbullying_type</th>\n",
       "    </tr>\n",
       "  </thead>\n",
       "  <tbody>\n",
       "    <tr>\n",
       "      <th>0</th>\n",
       "      <td>dankmtl yeap as a little propaganda nazi for t...</td>\n",
       "      <td>religion</td>\n",
       "    </tr>\n",
       "    <tr>\n",
       "      <th>1</th>\n",
       "      <td>lyndseyboo wow leave lyndsey phone alone bully...</td>\n",
       "      <td>other_cyberbullying</td>\n",
       "    </tr>\n",
       "    <tr>\n",
       "      <th>2</th>\n",
       "      <td>im not a man only know how to bully people</td>\n",
       "      <td>other_cyberbullying</td>\n",
       "    </tr>\n",
       "    <tr>\n",
       "      <th>3</th>\n",
       "      <td>urgedharry nyazpolitics greenlinerzjm if you a...</td>\n",
       "      <td>religion</td>\n",
       "    </tr>\n",
       "    <tr>\n",
       "      <th>4</th>\n",
       "      <td>calling people dumb isnt nice  rt tayyoung fuc...</td>\n",
       "      <td>ethnicity</td>\n",
       "    </tr>\n",
       "  </tbody>\n",
       "</table>\n",
       "</div>"
      ],
      "text/plain": [
       "                                          tweet_text   cyberbullying_type\n",
       "0  dankmtl yeap as a little propaganda nazi for t...             religion\n",
       "1  lyndseyboo wow leave lyndsey phone alone bully...  other_cyberbullying\n",
       "2        im not a man only know how to bully people   other_cyberbullying\n",
       "3  urgedharry nyazpolitics greenlinerzjm if you a...             religion\n",
       "4  calling people dumb isnt nice  rt tayyoung fuc...            ethnicity"
      ]
     },
     "execution_count": 16,
     "metadata": {},
     "output_type": "execute_result"
    }
   ],
   "source": [
    "data_test['tweet_text'] = data_test['tweet_text'].str.lower().str.translate(str.maketrans('', '', string.punctuation))\n",
    "data_test.head()"
   ]
  },
  {
   "cell_type": "code",
   "execution_count": 17,
   "id": "5fa303c9",
   "metadata": {},
   "outputs": [
    {
     "data": {
      "text/html": [
       "<div>\n",
       "<style scoped>\n",
       "    .dataframe tbody tr th:only-of-type {\n",
       "        vertical-align: middle;\n",
       "    }\n",
       "\n",
       "    .dataframe tbody tr th {\n",
       "        vertical-align: top;\n",
       "    }\n",
       "\n",
       "    .dataframe thead th {\n",
       "        text-align: right;\n",
       "    }\n",
       "</style>\n",
       "<table border=\"1\" class=\"dataframe\">\n",
       "  <thead>\n",
       "    <tr style=\"text-align: right;\">\n",
       "      <th></th>\n",
       "      <th>tweet_text</th>\n",
       "      <th>cyberbullying_type</th>\n",
       "    </tr>\n",
       "  </thead>\n",
       "  <tbody>\n",
       "    <tr>\n",
       "      <th>0</th>\n",
       "      <td>but you idiot tagged and more also im a muslim</td>\n",
       "      <td>religion</td>\n",
       "    </tr>\n",
       "    <tr>\n",
       "      <th>1</th>\n",
       "      <td>sexylala thats a dumb nigger never fuck lala h...</td>\n",
       "      <td>ethnicity</td>\n",
       "    </tr>\n",
       "    <tr>\n",
       "      <th>2</th>\n",
       "      <td>i never hear hispanics calling each other brow...</td>\n",
       "      <td>ethnicity</td>\n",
       "    </tr>\n",
       "    <tr>\n",
       "      <th>3</th>\n",
       "      <td>lennybanx nigger read it again such a dumb ass...</td>\n",
       "      <td>ethnicity</td>\n",
       "    </tr>\n",
       "    <tr>\n",
       "      <th>4</th>\n",
       "      <td>she was a mean girl in high school she and mim...</td>\n",
       "      <td>age</td>\n",
       "    </tr>\n",
       "  </tbody>\n",
       "</table>\n",
       "</div>"
      ],
      "text/plain": [
       "                                          tweet_text cyberbullying_type\n",
       "0     but you idiot tagged and more also im a muslim           religion\n",
       "1  sexylala thats a dumb nigger never fuck lala h...          ethnicity\n",
       "2  i never hear hispanics calling each other brow...          ethnicity\n",
       "3  lennybanx nigger read it again such a dumb ass...          ethnicity\n",
       "4  she was a mean girl in high school she and mim...                age"
      ]
     },
     "execution_count": 17,
     "metadata": {},
     "output_type": "execute_result"
    }
   ],
   "source": [
    "data_valid['tweet_text'] = data_valid['tweet_text'].str.lower().str.translate(str.maketrans('', '', string.punctuation))\n",
    "data_valid.head()"
   ]
  },
  {
   "cell_type": "markdown",
   "id": "c674093f",
   "metadata": {},
   "source": [
    "## Pipeline"
   ]
  },
  {
   "cell_type": "markdown",
   "id": "ee41b8b4",
   "metadata": {},
   "source": [
    "En esta parte del código hacemos uso de los vectores ONE-HOT para la vectorización de los textos y categorías para que la red neuronal pueda procesar. Cada valor de una categoría se convierte en un vector binario de longitud igual al número de categorías posibles, donde solo una posición es 1 (indicando la categoría a la que pertenece el valor), y todas las demás posiciones son 0."
   ]
  },
  {
   "cell_type": "markdown",
   "id": "334ab046",
   "metadata": {},
   "source": [
    "- Clasificación en clases de los tipos de twwets que tenemos"
   ]
  },
  {
   "cell_type": "code",
   "execution_count": 18,
   "id": "55ae20f8",
   "metadata": {},
   "outputs": [
    {
     "name": "stdout",
     "output_type": "stream",
     "text": [
      "[[0. 0. 0. 0. 1. 0.]\n",
      " [0. 1. 0. 0. 0. 0.]\n",
      " [0. 1. 0. 0. 0. 0.]\n",
      " ...\n",
      " [0. 0. 0. 1. 0. 0.]\n",
      " [0. 0. 1. 0. 0. 0.]\n",
      " [0. 0. 0. 1. 0. 0.]]\n"
     ]
    }
   ],
   "source": [
    "#Uso de tf.data para la clasificación de clases a partir de vectores ONE-HOT\n",
    "import tensorflow as tf\n",
    "\n",
    "#Vectores ONE-HOT del conjunto de entrenamiento, prueba y validación\n",
    "vector_train = data_train['cyberbullying_type']\n",
    "vector_test = data_test['cyberbullying_type']\n",
    "vector_val = data_valid['cyberbullying_type']\n",
    "\n",
    "def mapeo_one_hot(vectores):\n",
    "    categorias = list(set(vectores))\n",
    "    valor_categorias = {vectores: index for index, vectores in enumerate(categorias)}\n",
    "\n",
    "    indices = [valor_categorias[vector] for vector in vectores]\n",
    "\n",
    "    one_hot = tf.one_hot(indices, depth=len(categorias))\n",
    "\n",
    "    return one_hot\n",
    "\n",
    "one_hot_train = mapeo_one_hot(vector_train)\n",
    "one_hot_test = mapeo_one_hot(vector_test)\n",
    "one_hot_val = mapeo_one_hot(vector_val)\n",
    "\n",
    "print(one_hot_train.numpy())"
   ]
  },
  {
   "cell_type": "markdown",
   "id": "2e648e2b",
   "metadata": {},
   "source": [
    "Aquí se produce la separación en los conjuntos de datos ya convertidos en vectores ONE-HOT."
   ]
  },
  {
   "cell_type": "code",
   "execution_count": 19,
   "id": "edcc8072",
   "metadata": {},
   "outputs": [],
   "source": [
    "import tensorflow as tf\n",
    "from keras.layers import TextVectorization\n",
    "import time\n",
    "\n",
    "X_train = data_train['tweet_text'].values\n",
    "y_train = one_hot_train\n",
    "\n",
    "x_test = data_test['tweet_text'].values\n",
    "y_test = one_hot_test\n",
    "\n",
    "x_val = data_valid['tweet_text'].values\n",
    "y_val = one_hot_val"
   ]
  },
  {
   "cell_type": "code",
   "execution_count": 20,
   "id": "8ef22047",
   "metadata": {},
   "outputs": [
    {
     "data": {
      "text/plain": [
       "(32534, 7119, 7118)"
      ]
     },
     "execution_count": 20,
     "metadata": {},
     "output_type": "execute_result"
    }
   ],
   "source": [
    "len(X_train), len(x_test), len(x_val)"
   ]
  },
  {
   "cell_type": "code",
   "execution_count": 21,
   "id": "07288c53",
   "metadata": {},
   "outputs": [],
   "source": [
    "raw_train_ds = tf.data.Dataset.from_tensor_slices((X_train, y_train))\n",
    "raw_test_ds = tf.data.Dataset.from_tensor_slices((x_test, y_test))\n",
    "raw_val_ds = tf.data.Dataset.from_tensor_slices((x_val, y_val))"
   ]
  },
  {
   "cell_type": "markdown",
   "id": "0c4ec3e3",
   "metadata": {},
   "source": [
    "Para el ejercicio se usó un tamaño de volabulario de 10,000 para la entrada del modelo, esto para tener el espacio suficiente de todos las posibles cadenas que puedan contener los datatsets."
   ]
  },
  {
   "cell_type": "code",
   "execution_count": 22,
   "id": "a0230c36",
   "metadata": {},
   "outputs": [
    {
     "name": "stdout",
     "output_type": "stream",
     "text": [
      "Time for adapt is 175.0320\n"
     ]
    }
   ],
   "source": [
    "# Tamaño de vocabulario\n",
    "vocab_size = 10000\n",
    "\n",
    "vectorize_layer = TextVectorization(\n",
    "    standardize=None,\n",
    "    max_tokens=vocab_size,\n",
    "    output_mode='tf-idf')\n",
    "\n",
    "# Obtener el texto sin etiquetas\n",
    "text_ds = raw_train_ds.map(lambda x, y: x)\n",
    "start = time.time()\n",
    "vectorize_layer.adapt(text_ds)\n",
    "print(f'Time for adapt is {time.time()-start:.4f}')"
   ]
  },
  {
   "cell_type": "markdown",
   "id": "56153ec4",
   "metadata": {},
   "source": [
    "Para mejor entrenamiento del modelo se optó por usar lotes de tamaño 64, más grandes para que el modelo pudiese detectar patrones más complejos o no ignorará posibles datos que ayudan a taner mejores estadísticas de resultados."
   ]
  },
  {
   "cell_type": "code",
   "execution_count": 23,
   "id": "c4415d3e",
   "metadata": {},
   "outputs": [],
   "source": [
    "batch_size = 64\n",
    "raw_train_ds = raw_train_ds.shuffle(20000).batch(batch_size)\n",
    "raw_test_ds = raw_test_ds.batch(batch_size)\n",
    "raw_val_ds = raw_val_ds.batch(batch_size)"
   ]
  },
  {
   "cell_type": "code",
   "execution_count": 24,
   "id": "e06590e5",
   "metadata": {},
   "outputs": [
    {
     "name": "stdout",
     "output_type": "stream",
     "text": [
      "tf.Tensor(\n",
      "[b'watching wadhwa claim that he never received financial compensation oh sweets we know this isnt how that works stopwadhwa2015'\n",
      " b'i remember the shame and anxiety i felt about telling my family and friends i was straight in high school a classmate caught me holding hands with a girl and told the whole school i was straight i was bullied mercilessly i still remember every joke and insult 10 years later'], shape=(2,), dtype=string) tf.Tensor(\n",
      "[[0. 0. 0. 0. 1. 0.]\n",
      " [0. 0. 0. 0. 0. 1.]], shape=(2, 6), dtype=float32)\n"
     ]
    }
   ],
   "source": [
    "for inp, target in raw_train_ds.take(1):\n",
    "    print(inp[:2], target[:2])"
   ]
  },
  {
   "cell_type": "code",
   "execution_count": 25,
   "id": "6051fcb6",
   "metadata": {},
   "outputs": [
    {
     "data": {
      "text/plain": [
       "tensor([[7.7002, 0.0000, 0.0000,  ..., 0.0000, 0.0000, 0.0000],\n",
       "        [0.0000, 2.4530, 2.6519,  ..., 0.0000, 0.0000, 0.0000],\n",
       "        [7.7002, 0.0000, 0.0000,  ..., 0.0000, 0.0000, 0.0000],\n",
       "        ...,\n",
       "        [0.0000, 0.0000, 0.0000,  ..., 0.0000, 0.0000, 0.0000],\n",
       "        [7.7002, 0.0000, 2.6519,  ..., 0.0000, 0.0000, 0.0000],\n",
       "        [0.0000, 1.2265, 1.3260,  ..., 0.0000, 0.0000, 0.0000]])"
      ]
     },
     "execution_count": 25,
     "metadata": {},
     "output_type": "execute_result"
    }
   ],
   "source": [
    "vectorize_layer(inp)"
   ]
  },
  {
   "cell_type": "code",
   "execution_count": 26,
   "id": "a086b650",
   "metadata": {},
   "outputs": [],
   "source": [
    "def preprocess(x, y):\n",
    "    x = vectorize_layer(x)\n",
    "    return x, y\n",
    "\n",
    "train_ds = raw_train_ds.map(lambda x, y: preprocess(x, y))\n",
    "val_ds = raw_val_ds.map(lambda x, y: preprocess(x, y))\n",
    "test_ds = raw_test_ds.map(lambda x, y: preprocess(x, y))"
   ]
  },
  {
   "cell_type": "code",
   "execution_count": 27,
   "id": "f7714004",
   "metadata": {},
   "outputs": [
    {
     "data": {
      "text/plain": [
       "(<tf.Tensor: shape=(64, 10000), dtype=float32, numpy=\n",
       " array([[23.10065  ,  1.2264812,  1.3259579, ...,  0.       ,  0.       ,\n",
       "          0.       ],\n",
       "        [ 0.       ,  4.905925 ,  0.       , ...,  0.       ,  0.       ,\n",
       "          0.       ],\n",
       "        [ 0.       ,  1.2264812,  1.3259579, ...,  0.       ,  0.       ,\n",
       "          0.       ],\n",
       "        ...,\n",
       "        [15.400434 ,  2.4529624,  2.6519158, ...,  0.       ,  0.       ,\n",
       "          0.       ],\n",
       "        [ 7.700217 ,  1.2264812,  0.       , ...,  0.       ,  0.       ,\n",
       "          0.       ],\n",
       "        [ 7.700217 ,  0.       ,  0.       , ...,  0.       ,  0.       ,\n",
       "          0.       ]], dtype=float32)>,\n",
       " <tf.Tensor: shape=(64, 6), dtype=float32, numpy=\n",
       " array([[0., 0., 1., 0., 0., 0.],\n",
       "        [0., 0., 1., 0., 0., 0.],\n",
       "        [0., 0., 0., 0., 0., 1.],\n",
       "        [0., 0., 1., 0., 0., 0.],\n",
       "        [0., 0., 1., 0., 0., 0.],\n",
       "        [0., 0., 0., 1., 0., 0.],\n",
       "        [0., 0., 0., 1., 0., 0.],\n",
       "        [0., 0., 0., 1., 0., 0.],\n",
       "        [0., 0., 1., 0., 0., 0.],\n",
       "        [0., 0., 0., 1., 0., 0.],\n",
       "        [0., 0., 1., 0., 0., 0.],\n",
       "        [0., 0., 0., 0., 0., 1.],\n",
       "        [0., 1., 0., 0., 0., 0.],\n",
       "        [0., 0., 0., 1., 0., 0.],\n",
       "        [0., 0., 0., 1., 0., 0.],\n",
       "        [0., 0., 0., 0., 0., 1.],\n",
       "        [0., 0., 0., 0., 1., 0.],\n",
       "        [0., 0., 0., 0., 1., 0.],\n",
       "        [1., 0., 0., 0., 0., 0.],\n",
       "        [1., 0., 0., 0., 0., 0.],\n",
       "        [0., 1., 0., 0., 0., 0.],\n",
       "        [0., 0., 0., 0., 1., 0.],\n",
       "        [0., 0., 0., 0., 1., 0.],\n",
       "        [0., 0., 1., 0., 0., 0.],\n",
       "        [1., 0., 0., 0., 0., 0.],\n",
       "        [0., 0., 0., 0., 1., 0.],\n",
       "        [0., 0., 0., 0., 1., 0.],\n",
       "        [0., 0., 0., 0., 1., 0.],\n",
       "        [1., 0., 0., 0., 0., 0.],\n",
       "        [1., 0., 0., 0., 0., 0.],\n",
       "        [0., 0., 1., 0., 0., 0.],\n",
       "        [1., 0., 0., 0., 0., 0.],\n",
       "        [0., 0., 0., 0., 0., 1.],\n",
       "        [0., 0., 0., 0., 0., 1.],\n",
       "        [0., 0., 0., 0., 1., 0.],\n",
       "        [0., 0., 0., 0., 0., 1.],\n",
       "        [0., 0., 0., 0., 0., 1.],\n",
       "        [0., 0., 0., 0., 1., 0.],\n",
       "        [0., 0., 0., 0., 0., 1.],\n",
       "        [0., 0., 0., 0., 1., 0.],\n",
       "        [0., 0., 0., 0., 1., 0.],\n",
       "        [0., 0., 1., 0., 0., 0.],\n",
       "        [0., 0., 1., 0., 0., 0.],\n",
       "        [0., 1., 0., 0., 0., 0.],\n",
       "        [0., 1., 0., 0., 0., 0.],\n",
       "        [0., 0., 0., 0., 1., 0.],\n",
       "        [1., 0., 0., 0., 0., 0.],\n",
       "        [0., 0., 1., 0., 0., 0.],\n",
       "        [0., 0., 0., 0., 0., 1.],\n",
       "        [0., 1., 0., 0., 0., 0.],\n",
       "        [0., 0., 0., 0., 1., 0.],\n",
       "        [1., 0., 0., 0., 0., 0.],\n",
       "        [0., 0., 1., 0., 0., 0.],\n",
       "        [0., 0., 1., 0., 0., 0.],\n",
       "        [1., 0., 0., 0., 0., 0.],\n",
       "        [0., 0., 0., 1., 0., 0.],\n",
       "        [0., 0., 0., 0., 0., 1.],\n",
       "        [0., 1., 0., 0., 0., 0.],\n",
       "        [0., 0., 0., 1., 0., 0.],\n",
       "        [0., 0., 1., 0., 0., 0.],\n",
       "        [0., 0., 0., 0., 0., 1.],\n",
       "        [0., 0., 1., 0., 0., 0.],\n",
       "        [0., 1., 0., 0., 0., 0.],\n",
       "        [0., 1., 0., 0., 0., 0.]], dtype=float32)>)"
      ]
     },
     "execution_count": 27,
     "metadata": {},
     "output_type": "execute_result"
    }
   ],
   "source": [
    "next(iter(train_ds))"
   ]
  },
  {
   "cell_type": "markdown",
   "id": "fe42584d",
   "metadata": {},
   "source": [
    "- Construcción del modelo de red neuronal."
   ]
  },
  {
   "cell_type": "markdown",
   "id": "d043bd28",
   "metadata": {},
   "source": [
    "Para esta capa personalizada 'Linear' definimos los siguientes puntos principales:\n",
    "\n",
    "- *Inicialización*: Define cuántas unidades de salida (neuronas) tendrá la capa, y si tiene una función de activación.\n",
    "- *Construcción de pesos*: Crea una matriz de pesos w (que conecta las entradas con las salidas) y un vector de sesgos b.\n",
    "- *Cálculo hacia adelante*: Durante la pasada hacia adelante, la capa realiza la operación matemática inputs * w + b y aplica la función de activación si está definida.\n",
    "\n",
    "La idea básicamente de trata de construir nuestro propio modelo en donde los pesos se calculan a medida que ocurren las iteraciones."
   ]
  },
  {
   "cell_type": "code",
   "execution_count": 28,
   "id": "984cda87",
   "metadata": {},
   "outputs": [],
   "source": [
    "class Linear(keras.layers.Layer):\n",
    "    def __init__(self, num_outputs, activation=None):\n",
    "        super().__init__()\n",
    "        self.num_outputs = num_outputs\n",
    "        self.activation = keras.activations.get(activation)\n",
    "\n",
    "    def build(self, input_shape):\n",
    "      input_dim = input_shape[-1]\n",
    "      self.w = self.add_weight(shape=[input_dim,\n",
    "                                      self.num_outputs],\n",
    "                               name = 'kernel')\n",
    "      self.b = self.add_weight(shape=[self.num_outputs],\n",
    "                               name = 'bias')\n",
    "\n",
    "    def call(self, inputs):\n",
    "      x = keras.ops.matmul(inputs, self.w) + self.b\n",
    "      return self.activation(x)"
   ]
  },
  {
   "cell_type": "code",
   "execution_count": 29,
   "id": "695bf3de",
   "metadata": {},
   "outputs": [
    {
     "data": {
      "text/plain": [
       "<tf.Tensor: shape=(64, 10000), dtype=float32, numpy=\n",
       "array([[ 7.700217 ,  1.2264812,  1.3259579, ...,  0.       ,  0.       ,\n",
       "         0.       ],\n",
       "       [23.10065  ,  0.       ,  0.       , ...,  0.       ,  0.       ,\n",
       "         0.       ],\n",
       "       [ 0.       ,  0.       ,  1.3259579, ...,  0.       ,  0.       ,\n",
       "         0.       ],\n",
       "       ...,\n",
       "       [15.400434 ,  0.       ,  1.3259579, ...,  0.       ,  0.       ,\n",
       "         0.       ],\n",
       "       [ 0.       ,  0.       ,  1.3259579, ...,  0.       ,  0.       ,\n",
       "         0.       ],\n",
       "       [ 0.       ,  1.2264812,  0.       , ...,  0.       ,  0.       ,\n",
       "         0.       ]], dtype=float32)>"
      ]
     },
     "execution_count": 29,
     "metadata": {},
     "output_type": "execute_result"
    }
   ],
   "source": [
    "test_batch = next(iter(test_ds))\n",
    "test_batch[0]"
   ]
  },
  {
   "cell_type": "code",
   "execution_count": 30,
   "id": "7c42e547",
   "metadata": {},
   "outputs": [
    {
     "data": {
      "text/plain": [
       "<tf.Tensor: shape=(64, 10000), dtype=float32, numpy=\n",
       "array([[ 0.       ,  0.       ,  1.3259579, ...,  0.       ,  0.       ,\n",
       "         0.       ],\n",
       "       [15.400434 ,  0.       ,  1.3259579, ...,  0.       ,  0.       ,\n",
       "         0.       ],\n",
       "       [15.400434 ,  2.4529624,  1.3259579, ...,  0.       ,  0.       ,\n",
       "         0.       ],\n",
       "       ...,\n",
       "       [ 0.       ,  0.       ,  1.3259579, ...,  0.       ,  0.       ,\n",
       "         0.       ],\n",
       "       [ 0.       ,  0.       ,  0.       , ...,  0.       ,  0.       ,\n",
       "         0.       ],\n",
       "       [15.400434 ,  1.2264812,  1.3259579, ...,  0.       ,  0.       ,\n",
       "         0.       ]], dtype=float32)>"
      ]
     },
     "execution_count": 30,
     "metadata": {},
     "output_type": "execute_result"
    }
   ],
   "source": [
    "val_batch = next(iter(val_ds))\n",
    "val_batch[0]"
   ]
  },
  {
   "cell_type": "markdown",
   "id": "643c253d",
   "metadata": {},
   "source": [
    "Definición del modelo:\n",
    "\n",
    "- Tenemos 5 capas densas en donde la función de activación es utilizada para evitar relaciones lineales y que el modelo sea capaz de encontrar patrones más complejos y se aproveche de mejor manera su estructura.\n",
    "\n",
    "- Después de las primeras cuatro capas densas, se aplica Dropout con una tasa del 50%. Esto significa que, durante el entrenamiento, el modelo apaga aleatoriamente la mitad de las neuronas en esas capas, lo que ayuda a evitar el sobreajuste.\n",
    "\n",
    "- La última capa, que tiene 6 unidades, no utiliza Dropout y se usa como salida del modelo. utilizamos 'softmax' al tratarse de múltiples categorías o etiquetas.\n"
   ]
  },
  {
   "cell_type": "code",
   "execution_count": 41,
   "id": "0171b913",
   "metadata": {},
   "outputs": [],
   "source": [
    "from tensorflow.keras.layers import Dropout \n",
    "\n",
    "class Model(keras.Model):\n",
    "    def __init__(self, activation):\n",
    "        super().__init__()\n",
    "        self.l1 = Linear(24, activation=activation)\n",
    "        self.dropout1 = Dropout(0.5)\n",
    "        self.l2 = Linear(18)\n",
    "        self.dropout2 = Dropout(0.5)\n",
    "        self.l3 = Linear(18, activation=activation)\n",
    "        self.dropout3 = Dropout(0.5)\n",
    "        self.l4 = Linear(12)\n",
    "        self.dropout4 = Dropout(0.5)\n",
    "        self.l5 = Linear(6, activation=activation)\n",
    "     \n",
    "\n",
    "    def call(self, x):\n",
    "        x = self.dropout1(self.l1(x))\n",
    "        x = self.dropout2(self.l2(x))\n",
    "        x = self.dropout3(self.l3(x))\n",
    "        x = self.dropout4(self.l4(x))\n",
    "        x = self.l5(x)\n",
    "        return x\n",
    "\n",
    "model = Model('softmax')"
   ]
  },
  {
   "cell_type": "code",
   "execution_count": 42,
   "id": "2f2f2a17",
   "metadata": {},
   "outputs": [
    {
     "data": {
      "text/plain": [
       "(torch.Size([64, 6]), TensorShape([64, 6]))"
      ]
     },
     "execution_count": 42,
     "metadata": {},
     "output_type": "execute_result"
    }
   ],
   "source": [
    "model(test_batch[0]).shape, test_batch[1].shape"
   ]
  },
  {
   "cell_type": "markdown",
   "id": "9c607f81",
   "metadata": {},
   "source": [
    "- Contrucción del entrenamiento, prueba y validación del modelo."
   ]
  },
  {
   "cell_type": "markdown",
   "id": "fc4397ee",
   "metadata": {},
   "source": [
    "Callbacks:\n",
    "\n",
    "- *EarlyStopping*: Detiene el entrenamiento cuando la mejora del modelo en los datos de validación se estanca. Monitorea la métrica 'val_loss' (pérdida en el conjunto de validación). patience=4: Si la pérdida de validación no mejora después de 4 épocas consecutivas, el entrenamiento se detiene. \n",
    "\n",
    "- *ModelCheckpoint*: Guarda el mejor modelo durante el entrenamiento según un criterio especificado (en este caso, la pérdida de validación). Guarda el modelo en el archivo 'best_model.keras' cada vez que la pérdida de validación mejore. save_best_only=True: Solo guarda el modelo si es mejor que el guardado anteriormente, asegurando que al final se tenga el modelo con el mejor desempeño en el conjunto de validación.\n",
    "\n",
    "\n",
    "Compile:\n",
    "\n",
    "- *optimizer=keras.optimizers.Adam()*: Se usa el optimizador Adam, que es un optimizador avanzado que ajusta la tasa de aprendizaje automáticamente.\n",
    "\n",
    "- *loss='categorical_crossentropy'*: Se utiliza la función de pérdida de entropía cruzada categórica, lo cual es apropiado para problemas de clasificación multiclase ( especial para cuando las etiquetas están en formato de una codificación one-hot).\n",
    "\n",
    "\n",
    "Fit:\n",
    "\n",
    "- *validation_data=val_ds*: Se proporciona un conjunto de validación (val_ds) para monitorear el desempeño del modelo en datos que no ha visto durante el entrenamiento.\n",
    "\n",
    "- *EarlyStopping* podría detener el entrenamiento antes de las 15 épocas si la pérdida de validación no mejora.\n",
    "\n",
    "- *ModelCheckpoint* guardará el mejor modelo en el archivo 'best_model.keras'.\n",
    "\n",
    "\n",
    "Predict:\n",
    "\n",
    "- *test_ds*: El conjunto de datos de prueba, que se usa para generar predicciones con el modelo.\n",
    "\n",
    "- El modelo predice las etiquetas del conjunto de prueba, y las predicciones se almacenan en y_pred_score.\n",
    "\n",
    "\n",
    "Evaluate:\n",
    "\n",
    "- Evalúa el modelo en el conjunto de datos de prueba (test_ds) usando el tamaño de lote especificado (test_batch).\n",
    "\n",
    "- Se evalúan tanto la pérdida como la métrica de exactitud en los datos de prueba, proporcionando una indicación de cuán bien generaliza el modelo en datos no vistos.\n",
    "\n",
    "\n",
    "Este flujo garantiza que el modelo se entrene de manera eficiente, evite sobreajuste y guarde el mejor modelo basado en su desempeño en el conjunto de validación."
   ]
  },
  {
   "cell_type": "code",
   "execution_count": 43,
   "id": "305da050",
   "metadata": {},
   "outputs": [
    {
     "name": "stdout",
     "output_type": "stream",
     "text": [
      "Epoch 1/15\n",
      "\u001b[1m509/509\u001b[0m \u001b[32m━━━━━━━━━━━━━━━━━━━━\u001b[0m\u001b[37m\u001b[0m \u001b[1m17s\u001b[0m 32ms/step - accuracy: 0.2781 - loss: 1.6150 - val_accuracy: 0.5861 - val_loss: 0.9277\n",
      "Epoch 2/15\n",
      "\u001b[1m509/509\u001b[0m \u001b[32m━━━━━━━━━━━━━━━━━━━━\u001b[0m\u001b[37m\u001b[0m \u001b[1m16s\u001b[0m 31ms/step - accuracy: 0.6717 - loss: 0.7575 - val_accuracy: 0.7817 - val_loss: 0.5685\n",
      "Epoch 3/15\n",
      "\u001b[1m509/509\u001b[0m \u001b[32m━━━━━━━━━━━━━━━━━━━━\u001b[0m\u001b[37m\u001b[0m \u001b[1m16s\u001b[0m 31ms/step - accuracy: 0.8113 - loss: 0.4188 - val_accuracy: 0.7942 - val_loss: 0.5326\n",
      "Epoch 4/15\n",
      "\u001b[1m509/509\u001b[0m \u001b[32m━━━━━━━━━━━━━━━━━━━━\u001b[0m\u001b[37m\u001b[0m \u001b[1m16s\u001b[0m 30ms/step - accuracy: 0.8827 - loss: 0.3056 - val_accuracy: 0.8186 - val_loss: 0.5462\n",
      "Epoch 5/15\n",
      "\u001b[1m509/509\u001b[0m \u001b[32m━━━━━━━━━━━━━━━━━━━━\u001b[0m\u001b[37m\u001b[0m \u001b[1m16s\u001b[0m 30ms/step - accuracy: 0.9322 - loss: 0.2141 - val_accuracy: 0.8105 - val_loss: 0.6048\n",
      "Epoch 6/15\n",
      "\u001b[1m509/509\u001b[0m \u001b[32m━━━━━━━━━━━━━━━━━━━━\u001b[0m\u001b[37m\u001b[0m \u001b[1m15s\u001b[0m 30ms/step - accuracy: 0.9571 - loss: 0.1464 - val_accuracy: 0.8044 - val_loss: 0.7019\n",
      "Epoch 7/15\n",
      "\u001b[1m509/509\u001b[0m \u001b[32m━━━━━━━━━━━━━━━━━━━━\u001b[0m\u001b[37m\u001b[0m \u001b[1m15s\u001b[0m 30ms/step - accuracy: 0.9714 - loss: 0.1065 - val_accuracy: 0.8016 - val_loss: 0.7896\n",
      "\u001b[1m112/112\u001b[0m \u001b[32m━━━━━━━━━━━━━━━━━━━━\u001b[0m\u001b[37m\u001b[0m \u001b[1m3s\u001b[0m 23ms/step\n",
      "\u001b[1m112/112\u001b[0m \u001b[32m━━━━━━━━━━━━━━━━━━━━\u001b[0m\u001b[37m\u001b[0m \u001b[1m3s\u001b[0m 24ms/step - accuracy: 0.8064 - loss: 0.7959\n"
     ]
    },
    {
     "data": {
      "text/plain": [
       "[0.7792901396751404, 0.8051692843437195]"
      ]
     },
     "execution_count": 43,
     "metadata": {},
     "output_type": "execute_result"
    }
   ],
   "source": [
    "from tensorflow.keras.callbacks import EarlyStopping, ModelCheckpoint\n",
    "\n",
    "# Definir los callbacks\n",
    "callbacks = [\n",
    "    EarlyStopping(monitor='val_loss', patience=4),  # Detener cuando la pérdida de validación no mejore por 3 épocas consecutivas.\n",
    "    ModelCheckpoint(filepath='best_model.keras', monitor='val_loss', save_best_only=True)  # Guardar el mejor modelo.\n",
    "]\n",
    "\n",
    "model.compile(\n",
    "    optimizer=keras.optimizers.Adam(),\n",
    "    loss='categorical_crossentropy',\n",
    "    metrics=[\"accuracy\"]\n",
    ")\n",
    "\n",
    "history = model.fit(\n",
    "    train_ds,\n",
    "    validation_data=val_ds,\n",
    "    epochs=15,\n",
    "    callbacks=callbacks,\n",
    "    batch_size=val_batch\n",
    ")\n",
    "\n",
    "y_pred_score = model.predict(\n",
    "    test_ds,\n",
    "    callbacks=callbacks\n",
    ")\n",
    "\n",
    "\n",
    "model.evaluate(\n",
    "    test_ds,\n",
    "    batch_size=test_batch\n",
    ")"
   ]
  },
  {
   "cell_type": "code",
   "execution_count": 44,
   "id": "f53b10a6",
   "metadata": {},
   "outputs": [
    {
     "data": {
      "text/plain": [
       "{'accuracy': [0.3833220601081848,\n",
       "  0.7162045836448669,\n",
       "  0.8206799030303955,\n",
       "  0.890114963054657,\n",
       "  0.9325013756752014,\n",
       "  0.9549701809883118,\n",
       "  0.969416618347168],\n",
       " 'loss': [1.3487401008605957,\n",
       "  0.6652806997299194,\n",
       "  0.39997681975364685,\n",
       "  0.29625457525253296,\n",
       "  0.20852991938591003,\n",
       "  0.14724509418010712,\n",
       "  0.10585064440965652],\n",
       " 'val_accuracy': [0.5861197113990784,\n",
       "  0.7816802263259888,\n",
       "  0.7941837310791016,\n",
       "  0.8186288475990295,\n",
       "  0.8104804754257202,\n",
       "  0.8044394254684448,\n",
       "  0.8016296625137329],\n",
       " 'val_loss': [0.927668571472168,\n",
       "  0.5684754252433777,\n",
       "  0.5325837135314941,\n",
       "  0.5461812615394592,\n",
       "  0.6048155426979065,\n",
       "  0.7018797993659973,\n",
       "  0.7896044850349426]}"
      ]
     },
     "execution_count": 44,
     "metadata": {},
     "output_type": "execute_result"
    }
   ],
   "source": [
    "history.history"
   ]
  },
  {
   "cell_type": "code",
   "execution_count": 45,
   "id": "4a46272a",
   "metadata": {},
   "outputs": [
    {
     "data": {
      "image/png": "[encoded data removed]",
      "text/plain": [
       "<Figure size 1000x500 with 2 Axes>"
      ]
     },
     "metadata": {},
     "output_type": "display_data"
    }
   ],
   "source": [
    "import numpy as np\n",
    "import matplotlib.pyplot as plt\n",
    "\n",
    "# Crear figura con dos subplots\n",
    "fig, (ax1, ax2) = plt.subplots(1, 2, figsize=(10, 5))\n",
    "\n",
    "# Plot de accuracy en el primer subplot\n",
    "ax1.plot(history.history['accuracy'], 'bo-', label='Accuracy')\n",
    "ax1.plot(history.history['val_accuracy'], 'ro-', label='Validation Accuracy')\n",
    "ax1.set_title('Accuracy')\n",
    "ax1.set_xlabel('Época')\n",
    "ax1.set_ylabel('Accuracy')\n",
    "ax1.legend()\n",
    "\n",
    "# Plot de error en el segundo subplot\n",
    "ax2.plot(history.history['loss'], 'bo-', label='Loss')\n",
    "ax2.plot(history.history['val_loss'], 'ro-', label='Validation Loss')\n",
    "ax2.set_title('Error')\n",
    "ax2.set_xlabel('Época')\n",
    "ax2.set_ylabel('Error')\n",
    "ax2.legend()\n",
    "\n",
    "# Mostrar figura\n",
    "plt.show()"
   ]
  },
  {
   "cell_type": "code",
   "execution_count": 46,
   "id": "7f26200b",
   "metadata": {},
   "outputs": [
    {
     "data": {
      "image/png": "[encoded data removed]",
      "text/plain": [
       "<Figure size 1500x1500 with 2 Axes>"
      ]
     },
     "metadata": {},
     "output_type": "display_data"
    }
   ],
   "source": [
    "from sklearn.metrics import confusion_matrix, ConfusionMatrixDisplay\n",
    "\n",
    "y_pred = np.argmax(y_pred_score, axis=1)\n",
    "y_true = np.argmax(y_test, axis=1)\n",
    "conf_matrix = confusion_matrix(y_true, y_pred)\n",
    "\n",
    "nombres_clase = ['not_cyberbullying', 'gender', 'religion', 'other_cyberbullying', 'age', 'ethnicity']\n",
    "\n",
    "plt.figure(figsize=(15,15))\n",
    "disp = ConfusionMatrixDisplay(confusion_matrix=conf_matrix, display_labels=nombres_clase)\n",
    "disp.plot(cmap=plt.cm.Blues, ax=plt.gca())\n",
    "plt.title(\"Matriz de Confusión\")\n",
    "plt.show()"
   ]
  },
  {
   "cell_type": "markdown",
   "id": "54461a08",
   "metadata": {},
   "source": [
    "## Conslusión"
   ]
  },
  {
   "cell_type": "markdown",
   "id": "70e20cdb",
   "metadata": {},
   "source": [
    "Finalmente puedo decir que el objetivo de la programa se cumplió dado que la red neuronal si es capaz de clasificar las categorías descritas en los conjuntos de datos y donde se utilizaron los siguientes elementos:\n",
    "\n",
    "- Funciones de pérdida.\n",
    "- Funciones de activación.\n",
    "- Optimizadores.\n",
    "\n",
    "El procesamiento de texto no fue una tarea complicado debido a que el dataset venía mejor balanceado y solo contaba con dos columnas.\n",
    "\n",
    "El diseño de la arquitectura resultó fundamental para alcanzar el accuracy actual, esto debido a que el uso de las capas dropout evita el sobreajuste, que en otras palabras es que aumente el accuracy de entrenamiento pero disminuya el de validación no proporcionalmente, así que de esta manera fue posible obtener mejores resultados.\n",
    "\n",
    "Dentro del entrenamiento el callback es fundamental, pues de nada sirve un modelo que aumenta en accuracy pero que aumenta su pérdida, por lo que no entrenar todas las épocas si no es necesario es otro acierto dentro de este código.\n",
    "\n",
    "En conclusión, la iteración de esta red neuronal es buena, tal vez no alcanzó el 0.83; sin embargo, se acercó bastante con un 0.81, en dónde algunos detalles en específico podrían darnos incluso mejores resultados. Me gustó el ejercicio y pienso que es muy importante seguir con este tipo de arquitecturas para tener una mejor respuesta."
   ]
  }
 ],
 "metadata": {
  "kernelspec": {
   "display_name": "Python 3 (ipykernel)",
   "language": "python",
   "name": "python3"
  },
  "language_info": {
   "codemirror_mode": {
    "name": "ipython",
    "version": 3
   },
   "file_extension": ".py",
   "mimetype": "text/x-python",
   "name": "python",
   "nbconvert_exporter": "python",
   "pygments_lexer": "ipython3",
   "version": "3.11.3"
  }
 },
 "nbformat": 4,
 "nbformat_minor": 5
}
