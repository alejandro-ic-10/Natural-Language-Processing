{
 "cells": [
  {
   "cell_type": "markdown",
   "id": "862ef56f-e18e-48dc-88b8-44b0e935f16b",
   "metadata": {},
   "source": [
    "# PROGRAMA 2"
   ]
  },
  {
   "cell_type": "markdown",
   "id": "bbc6f47b-be27-45f5-808a-a6cef257cf83",
   "metadata": {},
   "source": [
    "## Objetivo:\n",
    "- Implementación de una red neuronal para la detección de ciberacoso a partir de una recopilación de tweets (actualmente X's).erior uso."
   ]
  },
  {
   "cell_type": "markdown",
   "id": "4b436375-81a7-4bfc-80d3-74a6577066b3",
   "metadata": {},
   "source": [
    "## Tratamiento y visualización de los datos"
   ]
  },
  {
   "cell_type": "code",
   "execution_count": 1,
   "id": "dd2fffc9-a3c7-48f1-87b6-0773e2817502",
   "metadata": {},
   "outputs": [
    {
     "data": {
      "text/html": [
       "<div>\n",
       "<style scoped>\n",
       "    .dataframe tbody tr th:only-of-type {\n",
       "        vertical-align: middle;\n",
       "    }\n",
       "\n",
       "    .dataframe tbody tr th {\n",
       "        vertical-align: top;\n",
       "    }\n",
       "\n",
       "    .dataframe thead th {\n",
       "        text-align: right;\n",
       "    }\n",
       "</style>\n",
       "<table border=\"1\" class=\"dataframe\">\n",
       "  <thead>\n",
       "    <tr style=\"text-align: right;\">\n",
       "      <th></th>\n",
       "      <th>tweet_text</th>\n",
       "      <th>cyberbullying_type</th>\n",
       "    </tr>\n",
       "  </thead>\n",
       "  <tbody>\n",
       "    <tr>\n",
       "      <th>0</th>\n",
       "      <td>@AntonSirius @erinspice @prpltnkr @ChiefElk oh...</td>\n",
       "      <td>other_cyberbullying</td>\n",
       "    </tr>\n",
       "    <tr>\n",
       "      <th>1</th>\n",
       "      <td>Ladies \"Bedroom Bully\" The Mix Cd By @GappyRan...</td>\n",
       "      <td>not_cyberbullying</td>\n",
       "    </tr>\n",
       "    <tr>\n",
       "      <th>2</th>\n",
       "      <td>RT @_bobbidana: Never thought I'd say this but...</td>\n",
       "      <td>not_cyberbullying</td>\n",
       "    </tr>\n",
       "    <tr>\n",
       "      <th>3</th>\n",
       "      <td>She is intellectual terrorists and world suffe...</td>\n",
       "      <td>religion</td>\n",
       "    </tr>\n",
       "    <tr>\n",
       "      <th>4</th>\n",
       "      <td>You saudias are not friends of Muslim idiots c...</td>\n",
       "      <td>religion</td>\n",
       "    </tr>\n",
       "  </tbody>\n",
       "</table>\n",
       "</div>"
      ],
      "text/plain": [
       "                                          tweet_text   cyberbullying_type\n",
       "0  @AntonSirius @erinspice @prpltnkr @ChiefElk oh...  other_cyberbullying\n",
       "1  Ladies \"Bedroom Bully\" The Mix Cd By @GappyRan...    not_cyberbullying\n",
       "2  RT @_bobbidana: Never thought I'd say this but...    not_cyberbullying\n",
       "3  She is intellectual terrorists and world suffe...             religion\n",
       "4  You saudias are not friends of Muslim idiots c...             religion"
      ]
     },
     "execution_count": 1,
     "metadata": {},
     "output_type": "execute_result"
    }
   ],
   "source": [
    "#Importación de los datos\n",
    "import pandas as pd\n",
    "data_train = pd.read_csv('E:\\MATERIAS CURSADAS\\ONCEAVO SEMESTRE\\PLN\\cyberbullying_train.csv')\n",
    "data_test = pd.read_csv('E:\\MATERIAS CURSADAS\\ONCEAVO SEMESTRE\\PLN\\cyberbullying_test.csv')\n",
    "data_valid = pd.read_csv('E:\\MATERIAS CURSADAS\\ONCEAVO SEMESTRE\\PLN\\cyberbullying_val.csv')\n",
    "\n",
    "data_train.head()"
   ]
  },
  {
   "cell_type": "code",
   "execution_count": 2,
   "id": "2b0016f6",
   "metadata": {},
   "outputs": [
    {
     "data": {
      "text/html": [
       "<div>\n",
       "<style scoped>\n",
       "    .dataframe tbody tr th:only-of-type {\n",
       "        vertical-align: middle;\n",
       "    }\n",
       "\n",
       "    .dataframe tbody tr th {\n",
       "        vertical-align: top;\n",
       "    }\n",
       "\n",
       "    .dataframe thead th {\n",
       "        text-align: right;\n",
       "    }\n",
       "</style>\n",
       "<table border=\"1\" class=\"dataframe\">\n",
       "  <thead>\n",
       "    <tr style=\"text-align: right;\">\n",
       "      <th></th>\n",
       "      <th>tweet_text</th>\n",
       "      <th>cyberbullying_type</th>\n",
       "    </tr>\n",
       "  </thead>\n",
       "  <tbody>\n",
       "    <tr>\n",
       "      <th>0</th>\n",
       "      <td>@dankmtl Yeap, as a little Propaganda Nazi for...</td>\n",
       "      <td>religion</td>\n",
       "    </tr>\n",
       "    <tr>\n",
       "      <th>1</th>\n",
       "      <td>@LyndseyBoo wow!! Leave lyndsey phone alone!!!...</td>\n",
       "      <td>other_cyberbullying</td>\n",
       "    </tr>\n",
       "    <tr>\n",
       "      <th>2</th>\n",
       "      <td>I'm not a man, only know how to bully people :(</td>\n",
       "      <td>other_cyberbullying</td>\n",
       "    </tr>\n",
       "    <tr>\n",
       "      <th>3</th>\n",
       "      <td>@urgedharry @nyazpolitics @greenlinerzjm If yo...</td>\n",
       "      <td>religion</td>\n",
       "    </tr>\n",
       "    <tr>\n",
       "      <th>4</th>\n",
       "      <td>Calling people dumb isnt nice :( RT @tayyoung_...</td>\n",
       "      <td>ethnicity</td>\n",
       "    </tr>\n",
       "  </tbody>\n",
       "</table>\n",
       "</div>"
      ],
      "text/plain": [
       "                                          tweet_text   cyberbullying_type\n",
       "0  @dankmtl Yeap, as a little Propaganda Nazi for...             religion\n",
       "1  @LyndseyBoo wow!! Leave lyndsey phone alone!!!...  other_cyberbullying\n",
       "2    I'm not a man, only know how to bully people :(  other_cyberbullying\n",
       "3  @urgedharry @nyazpolitics @greenlinerzjm If yo...             religion\n",
       "4  Calling people dumb isnt nice :( RT @tayyoung_...            ethnicity"
      ]
     },
     "execution_count": 2,
     "metadata": {},
     "output_type": "execute_result"
    }
   ],
   "source": [
    "data_test.head()"
   ]
  },
  {
   "cell_type": "code",
   "execution_count": 3,
   "id": "c36a89c4",
   "metadata": {},
   "outputs": [
    {
     "data": {
      "text/html": [
       "<div>\n",
       "<style scoped>\n",
       "    .dataframe tbody tr th:only-of-type {\n",
       "        vertical-align: middle;\n",
       "    }\n",
       "\n",
       "    .dataframe tbody tr th {\n",
       "        vertical-align: top;\n",
       "    }\n",
       "\n",
       "    .dataframe thead th {\n",
       "        text-align: right;\n",
       "    }\n",
       "</style>\n",
       "<table border=\"1\" class=\"dataframe\">\n",
       "  <thead>\n",
       "    <tr style=\"text-align: right;\">\n",
       "      <th></th>\n",
       "      <th>tweet_text</th>\n",
       "      <th>cyberbullying_type</th>\n",
       "    </tr>\n",
       "  </thead>\n",
       "  <tbody>\n",
       "    <tr>\n",
       "      <th>0</th>\n",
       "      <td>But you idiot tagged and more also I'm a Muslim</td>\n",
       "      <td>religion</td>\n",
       "    </tr>\n",
       "    <tr>\n",
       "      <th>1</th>\n",
       "      <td>@SEXYLALA That's a dumb nigger never fuck LALA...</td>\n",
       "      <td>ethnicity</td>\n",
       "    </tr>\n",
       "    <tr>\n",
       "      <th>2</th>\n",
       "      <td>I never hear hispanics calling each other brow...</td>\n",
       "      <td>ethnicity</td>\n",
       "    </tr>\n",
       "    <tr>\n",
       "      <th>3</th>\n",
       "      <td>@Lenny_Banx nigger read it again such a dumb a...</td>\n",
       "      <td>ethnicity</td>\n",
       "    </tr>\n",
       "    <tr>\n",
       "      <th>4</th>\n",
       "      <td>She was a mean girl in high school. She and Mi...</td>\n",
       "      <td>age</td>\n",
       "    </tr>\n",
       "  </tbody>\n",
       "</table>\n",
       "</div>"
      ],
      "text/plain": [
       "                                          tweet_text cyberbullying_type\n",
       "0    But you idiot tagged and more also I'm a Muslim           religion\n",
       "1  @SEXYLALA That's a dumb nigger never fuck LALA...          ethnicity\n",
       "2  I never hear hispanics calling each other brow...          ethnicity\n",
       "3  @Lenny_Banx nigger read it again such a dumb a...          ethnicity\n",
       "4  She was a mean girl in high school. She and Mi...                age"
      ]
     },
     "execution_count": 3,
     "metadata": {},
     "output_type": "execute_result"
    }
   ],
   "source": [
    "data_valid.head()"
   ]
  },
  {
   "cell_type": "code",
   "execution_count": 4,
   "id": "acf07cb9",
   "metadata": {},
   "outputs": [
    {
     "data": {
      "text/plain": [
       "('2.4.1+cpu', '3.5.0')"
      ]
     },
     "execution_count": 4,
     "metadata": {},
     "output_type": "execute_result"
    }
   ],
   "source": [
    "#Bibliotecas necesarias\n",
    "import os\n",
    "os.environ['TF_CPP_MIN_LOG_LEVEL'] = '3' # Disable tensorflow debugging logs\n",
    "os.environ[\"KERAS_BACKEND\"] = \"torch\"\n",
    "import keras\n",
    "import torch\n",
    "\n",
    "torch.__version__, keras.__version__"
   ]
  },
  {
   "cell_type": "markdown",
   "id": "334ab046",
   "metadata": {},
   "source": [
    "- Clasificación en clases de los tipos de twwets que tenemos"
   ]
  },
  {
   "cell_type": "code",
   "execution_count": 5,
   "id": "55ae20f8",
   "metadata": {},
   "outputs": [
    {
     "name": "stdout",
     "output_type": "stream",
     "text": [
      "[[1. 0. 0. 0. 0. 0.]\n",
      " [0. 0. 0. 1. 0. 0.]\n",
      " [0. 0. 0. 1. 0. 0.]\n",
      " ...\n",
      " [0. 0. 1. 0. 0. 0.]\n",
      " [1. 0. 0. 0. 0. 0.]\n",
      " [0. 0. 0. 0. 1. 0.]]\n"
     ]
    }
   ],
   "source": [
    "#Uso de tf.data para la clasificación de clases a partir de vectores ONE-HOT\n",
    "import tensorflow as tf\n",
    "\n",
    "#Vectores ONE-HOT del conjunto de entrenamiento, prueba y validación\n",
    "vector_train = data_train['cyberbullying_type']\n",
    "vector_test = data_test['cyberbullying_type']\n",
    "vector_val = data_valid['cyberbullying_type']\n",
    "\n",
    "def mapeo_one_hot(vectores):\n",
    "    categorias = list(set(vectores))\n",
    "    valor_categorias = {vectores: index for index, vectores in enumerate(categorias)}\n",
    "\n",
    "    indices = [valor_categorias[vector] for vector in vectores]\n",
    "\n",
    "    one_hot = tf.one_hot(indices, depth=len(categorias))\n",
    "\n",
    "    return one_hot\n",
    "\n",
    "one_hot_train = mapeo_one_hot(vector_train)\n",
    "one_hot_test = mapeo_one_hot(vector_test)\n",
    "one_hot_val = mapeo_one_hot(vector_val)\n",
    "\n",
    "print(one_hot_train.numpy())"
   ]
  },
  {
   "cell_type": "code",
   "execution_count": 8,
   "id": "edcc8072",
   "metadata": {},
   "outputs": [],
   "source": [
    "import tensorflow as tf\n",
    "from keras.layers import TextVectorization\n",
    "from sklearn.model_selection import train_test_split\n",
    "import time\n",
    "\n",
    "X_train = data_train['tweet_text'].values\n",
    "y_train = one_hot_train\n",
    "\n",
    "x_test = data_test['tweet_text'].values\n",
    "y_test = one_hot_test\n",
    "\n",
    "x_val = data_valid['tweet_text'].values\n",
    "y_val = one_hot_val"
   ]
  },
  {
   "cell_type": "code",
   "execution_count": 9,
   "id": "8ef22047",
   "metadata": {},
   "outputs": [
    {
     "data": {
      "text/plain": [
       "(33384, 7154, 7154)"
      ]
     },
     "execution_count": 9,
     "metadata": {},
     "output_type": "execute_result"
    }
   ],
   "source": [
    "len(X_train), len(x_test), len(x_val)"
   ]
  },
  {
   "cell_type": "code",
   "execution_count": 10,
   "id": "07288c53",
   "metadata": {},
   "outputs": [],
   "source": [
    "raw_train_ds = tf.data.Dataset.from_tensor_slices((X_train, y_train))\n",
    "raw_test_ds = tf.data.Dataset.from_tensor_slices((x_test, y_test))\n",
    "raw_val_ds = tf.data.Dataset.from_tensor_slices((x_val, y_val))"
   ]
  },
  {
   "cell_type": "code",
   "execution_count": 11,
   "id": "a0230c36",
   "metadata": {},
   "outputs": [
    {
     "name": "stdout",
     "output_type": "stream",
     "text": [
      "Time for adapt is 183.0893\n"
     ]
    }
   ],
   "source": [
    "# Tamaño de vocabulario\n",
    "vocab_size = 10000\n",
    "\n",
    "vectorize_layer = TextVectorization(\n",
    "    standardize=None,\n",
    "    max_tokens=vocab_size,\n",
    "    output_mode='tf-idf')\n",
    "\n",
    "# Obtener el texto sin etiquetas\n",
    "text_ds = raw_train_ds.map(lambda x, y: x)\n",
    "start = time.time()\n",
    "vectorize_layer.adapt(text_ds)\n",
    "print(f'Time for adapt is {time.time()-start:.4f}')"
   ]
  },
  {
   "cell_type": "code",
   "execution_count": 12,
   "id": "c4415d3e",
   "metadata": {},
   "outputs": [],
   "source": [
    "batch_size = 16\n",
    "raw_train_ds = raw_train_ds.shuffle(20000).batch(batch_size)\n",
    "raw_test_ds = raw_test_ds.batch(batch_size)\n",
    "raw_val_ds = raw_val_ds.batch(batch_size)"
   ]
  },
  {
   "cell_type": "code",
   "execution_count": 13,
   "id": "e06590e5",
   "metadata": {},
   "outputs": [
    {
     "name": "stdout",
     "output_type": "stream",
     "text": [
      "tf.Tensor(\n",
      "[b\"Cannot believe my princess is 3 next! Where has time gone?! She's growing up too quick!:( love her so so much xxxxxxxx\"\n",
      " b\"RT @tauriqmoosa: Oh, is the Witcher 3 a game that let's you play as a lesbian of colour? That is remarkable! http://t.co/HfQLh0U04Z\"], shape=(2,), dtype=string) tf.Tensor(\n",
      "[[0. 0. 0. 1. 0. 0.]\n",
      " [1. 0. 0. 0. 0. 0.]], shape=(2, 6), dtype=float32)\n"
     ]
    }
   ],
   "source": [
    "for inp, target in raw_train_ds.take(1):\n",
    "    print(inp[:2], target[:2])"
   ]
  },
  {
   "cell_type": "code",
   "execution_count": 14,
   "id": "6051fcb6",
   "metadata": {},
   "outputs": [
    {
     "data": {
      "text/plain": [
       "tensor([[37.7287,  0.0000,  0.0000,  ...,  0.0000,  0.0000,  0.0000],\n",
       "        [37.7287,  1.2918,  2.7284,  ...,  0.0000,  0.0000,  0.0000],\n",
       "        [ 0.0000,  0.0000,  0.0000,  ...,  0.0000,  0.0000,  0.0000],\n",
       "        ...,\n",
       "        [15.0915,  0.0000,  0.0000,  ...,  0.0000,  0.0000,  0.0000],\n",
       "        [45.2744,  1.2918,  1.3642,  ...,  0.0000,  0.0000,  0.0000],\n",
       "        [ 0.0000,  0.0000,  0.0000,  ...,  0.0000,  0.0000,  0.0000]])"
      ]
     },
     "execution_count": 14,
     "metadata": {},
     "output_type": "execute_result"
    }
   ],
   "source": [
    "vectorize_layer(inp)"
   ]
  },
  {
   "cell_type": "code",
   "execution_count": 15,
   "id": "a086b650",
   "metadata": {},
   "outputs": [],
   "source": [
    "def preprocess(x, y):\n",
    "    x = vectorize_layer(x)\n",
    "    return x, y\n",
    "\n",
    "train_ds = raw_train_ds.map(lambda x, y: preprocess(x, y))\n",
    "val_ds = raw_val_ds.map(lambda x, y: preprocess(x, y))\n",
    "test_ds = raw_test_ds.map(lambda x, y: preprocess(x, y))"
   ]
  },
  {
   "cell_type": "code",
   "execution_count": 16,
   "id": "f7714004",
   "metadata": {},
   "outputs": [
    {
     "data": {
      "text/plain": [
       "(<tf.Tensor: shape=(16, 10000), dtype=float32, numpy=\n",
       " array([[22.637196 ,  2.5835607,  0.       , ...,  0.       ,  0.       ,\n",
       "          0.       ],\n",
       "        [37.72866  ,  2.5835607,  1.3641971, ...,  0.       ,  0.       ,\n",
       "          0.       ],\n",
       "        [45.27439  ,  2.5835607,  1.3641971, ...,  0.       ,  0.       ,\n",
       "          0.       ],\n",
       "        ...,\n",
       "        [ 0.       ,  0.       ,  0.       , ...,  0.       ,  0.       ,\n",
       "          0.       ],\n",
       "        [ 0.       ,  0.       ,  0.       , ...,  0.       ,  0.       ,\n",
       "          0.       ],\n",
       "        [15.091464 ,  0.       ,  0.       , ...,  0.       ,  0.       ,\n",
       "          0.       ]], dtype=float32)>,\n",
       " <tf.Tensor: shape=(16, 6), dtype=float32, numpy=\n",
       " array([[0., 0., 1., 0., 0., 0.],\n",
       "        [0., 0., 0., 0., 0., 1.],\n",
       "        [0., 0., 0., 0., 0., 1.],\n",
       "        [0., 0., 0., 1., 0., 0.],\n",
       "        [0., 1., 0., 0., 0., 0.],\n",
       "        [0., 0., 0., 0., 1., 0.],\n",
       "        [0., 0., 1., 0., 0., 0.],\n",
       "        [0., 0., 0., 0., 1., 0.],\n",
       "        [1., 0., 0., 0., 0., 0.],\n",
       "        [0., 1., 0., 0., 0., 0.],\n",
       "        [0., 0., 0., 0., 0., 1.],\n",
       "        [0., 0., 0., 1., 0., 0.],\n",
       "        [0., 0., 0., 0., 1., 0.],\n",
       "        [0., 1., 0., 0., 0., 0.],\n",
       "        [0., 0., 0., 0., 0., 1.],\n",
       "        [1., 0., 0., 0., 0., 0.]], dtype=float32)>)"
      ]
     },
     "execution_count": 16,
     "metadata": {},
     "output_type": "execute_result"
    }
   ],
   "source": [
    "next(iter(train_ds))"
   ]
  },
  {
   "cell_type": "markdown",
   "id": "fe42584d",
   "metadata": {},
   "source": [
    "- Construcción del modelo de red neuronal."
   ]
  },
  {
   "cell_type": "code",
   "execution_count": 17,
   "id": "984cda87",
   "metadata": {},
   "outputs": [
    {
     "data": {
      "text/plain": [
       "torch.Size([1, 6])"
      ]
     },
     "execution_count": 17,
     "metadata": {},
     "output_type": "execute_result"
    }
   ],
   "source": [
    "class Linear(keras.layers.Layer):\n",
    "    def __init__(self, num_outputs, activation=None):\n",
    "        super().__init__()\n",
    "        self.num_outputs = num_outputs\n",
    "        self.activation = keras.activations.get(activation)\n",
    "\n",
    "    def build(self, input_shape):\n",
    "      input_dim = input_shape[-1]\n",
    "      self.w = self.add_weight(shape=[input_dim,\n",
    "                                      self.num_outputs],\n",
    "                               name = 'kernel')\n",
    "      self.b = self.add_weight(shape=[self.num_outputs],\n",
    "                               name = 'bias')\n",
    "\n",
    "    def call(self, inputs):\n",
    "      x = keras.ops.matmul(inputs, self.w) + self.b\n",
    "      return self.activation(x)\n",
    "\n",
    "layer = Linear(6, 'tanh')\n",
    "x = tf.ones([1, 10000])\n",
    "out = layer(x)\n",
    "out.shape"
   ]
  },
  {
   "cell_type": "code",
   "execution_count": 18,
   "id": "695bf3de",
   "metadata": {},
   "outputs": [
    {
     "data": {
      "text/plain": [
       "<tf.Tensor: shape=(16, 10000), dtype=float32, numpy=\n",
       "array([[22.637196 ,  1.2917804,  1.3641971, ...,  0.       ,  0.       ,\n",
       "         0.       ],\n",
       "       [45.27439  ,  0.       ,  0.       , ...,  0.       ,  0.       ,\n",
       "         0.       ],\n",
       "       [ 0.       ,  0.       ,  1.3641971, ...,  0.       ,  0.       ,\n",
       "         0.       ],\n",
       "       ...,\n",
       "       [37.72866  ,  0.       ,  0.       , ...,  0.       ,  0.       ,\n",
       "         0.       ],\n",
       "       [30.182928 ,  0.       ,  0.       , ...,  0.       ,  0.       ,\n",
       "         0.       ],\n",
       "       [ 7.545732 ,  0.       ,  0.       , ...,  0.       ,  0.       ,\n",
       "         0.       ]], dtype=float32)>"
      ]
     },
     "execution_count": 18,
     "metadata": {},
     "output_type": "execute_result"
    }
   ],
   "source": [
    "test_batch = next(iter(test_ds))\n",
    "test_batch[0]"
   ]
  },
  {
   "cell_type": "code",
   "execution_count": 21,
   "id": "0171b913",
   "metadata": {},
   "outputs": [],
   "source": [
    "class Model(keras.Model):\n",
    "    def __init__(self, activation):\n",
    "        super().__init__()\n",
    "        self.l1 = Linear(3, activation=activation)\n",
    "        self.l2 = Linear(6)\n",
    "\n",
    "    def call(self, x):\n",
    "        x = self.l1(x)\n",
    "        x = self.l2(x)\n",
    "        return x\n",
    "\n",
    "model = Model('softmax')"
   ]
  },
  {
   "cell_type": "code",
   "execution_count": 22,
   "id": "2f2f2a17",
   "metadata": {},
   "outputs": [
    {
     "data": {
      "text/plain": [
       "(torch.Size([16, 6]), TensorShape([16, 6]))"
      ]
     },
     "execution_count": 22,
     "metadata": {},
     "output_type": "execute_result"
    }
   ],
   "source": [
    "model(test_batch[0]).shape, test_batch[1].shape"
   ]
  },
  {
   "cell_type": "code",
   "execution_count": null,
   "id": "305da050",
   "metadata": {},
   "outputs": [],
   "source": [
    "from tensorflow.keras.callbacks import EarlyStopping, ModelCheckpoint\n",
    "\n",
    "# Definir los callbacks\n",
    "callbacks = [\n",
    "    EarlyStopping(monitor='val_loss', patience=3),  # Detener cuando la pérdida de validación no mejore por 3 épocas consecutivas.\n",
    "    ModelCheckpoint(filepath='best_model.h5', monitor='val_loss', save_best_only=True)  # Guardar el mejor modelo.\n",
    "]\n",
    "\n",
    "model.compile(\n",
    "    optimizer=keras.optimizers.Adam(learning_rate=0.001),\n",
    "    loss=keras.losses.MeanSquaredError(),\n",
    "    metrics=[\"accuracy\"]\n",
    ")\n",
    "\n",
    "model.fit(\n",
    "    train_ds,\n",
    "    validation_data=val_ds,\n",
    "    epochs=6,\n",
    "    callbacks=callbacks\n",
    ")\n",
    "\n",
    "keras.layers.Dropout(0.1, noise_shape=None, seed=None, **kwargs)\n",
    "\n",
    "model.evaluate(\n",
    "\n",
    ")"
   ]
  }
 ],
 "metadata": {
  "kernelspec": {
   "display_name": "Python 3 (ipykernel)",
   "language": "python",
   "name": "python3"
  },
  "language_info": {
   "codemirror_mode": {
    "name": "ipython",
    "version": 3
   },
   "file_extension": ".py",
   "mimetype": "text/x-python",
   "name": "python",
   "nbconvert_exporter": "python",
   "pygments_lexer": "ipython3",
   "version": "3.11.3"
  }
 },
 "nbformat": 4,
 "nbformat_minor": 5
}
