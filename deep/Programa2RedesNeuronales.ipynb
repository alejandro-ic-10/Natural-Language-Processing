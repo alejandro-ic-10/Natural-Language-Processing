{
 "cells": [
  {
   "cell_type": "markdown",
   "id": "862ef56f-e18e-48dc-88b8-44b0e935f16b",
   "metadata": {},
   "source": [
    "# PROGRAMA 2"
   ]
  },
  {
   "cell_type": "markdown",
   "id": "bbc6f47b-be27-45f5-808a-a6cef257cf83",
   "metadata": {},
   "source": [
    "## Objetivo:\n",
    "- Implementación de una red neuronal para la detección de ciberacoso a partir de una recopilación de tweets (actualmente X's).erior uso."
   ]
  },
  {
   "cell_type": "markdown",
   "id": "4b436375-81a7-4bfc-80d3-74a6577066b3",
   "metadata": {},
   "source": [
    "## Tratamiento y visualización de los datos"
   ]
  },
  {
   "cell_type": "code",
   "execution_count": null,
   "id": "dd2fffc9-a3c7-48f1-87b6-0773e2817502",
   "metadata": {},
   "outputs": [],
   "source": [
    "#importación de los datos\n"
   ]
  }
 ],
 "metadata": {
  "kernelspec": {
   "display_name": "Python 3 (ipykernel)",
   "language": "python",
   "name": "python3"
  },
  "language_info": {
   "codemirror_mode": {
    "name": "ipython",
    "version": 3
   },
   "file_extension": ".py",
   "mimetype": "text/x-python",
   "name": "python",
   "nbconvert_exporter": "python",
   "pygments_lexer": "ipython3",
   "version": "3.12.4"
  }
 },
 "nbformat": 4,
 "nbformat_minor": 5
}
