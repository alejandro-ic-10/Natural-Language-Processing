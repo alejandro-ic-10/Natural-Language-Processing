{
 "cells": [
  {
   "cell_type": "markdown",
   "id": "862ef56f-e18e-48dc-88b8-44b0e935f16b",
   "metadata": {},
   "source": [
    "# PROGRAMA 2"
   ]
  },
  {
   "cell_type": "markdown",
   "id": "bbc6f47b-be27-45f5-808a-a6cef257cf83",
   "metadata": {},
   "source": [
    "## Objetivo:\n",
    "- Implementación de una red neuronal para la detección de ciberacoso a partir de una recopilación de tweets (actualmente X's).erior uso."
   ]
  },
  {
   "cell_type": "markdown",
   "id": "4b436375-81a7-4bfc-80d3-74a6577066b3",
   "metadata": {},
   "source": [
    "## Tratamiento y visualización de los datos"
   ]
  },
  {
   "cell_type": "code",
   "execution_count": 1,
   "id": "dd2fffc9-a3c7-48f1-87b6-0773e2817502",
   "metadata": {},
   "outputs": [
    {
     "data": {
      "text/html": [
       "<div>\n",
       "<style scoped>\n",
       "    .dataframe tbody tr th:only-of-type {\n",
       "        vertical-align: middle;\n",
       "    }\n",
       "\n",
       "    .dataframe tbody tr th {\n",
       "        vertical-align: top;\n",
       "    }\n",
       "\n",
       "    .dataframe thead th {\n",
       "        text-align: right;\n",
       "    }\n",
       "</style>\n",
       "<table border=\"1\" class=\"dataframe\">\n",
       "  <thead>\n",
       "    <tr style=\"text-align: right;\">\n",
       "      <th></th>\n",
       "      <th>tweet_text</th>\n",
       "      <th>cyberbullying_type</th>\n",
       "    </tr>\n",
       "  </thead>\n",
       "  <tbody>\n",
       "    <tr>\n",
       "      <th>0</th>\n",
       "      <td>@AntonSirius @erinspice @prpltnkr @ChiefElk oh...</td>\n",
       "      <td>other_cyberbullying</td>\n",
       "    </tr>\n",
       "    <tr>\n",
       "      <th>1</th>\n",
       "      <td>Ladies \"Bedroom Bully\" The Mix Cd By @GappyRan...</td>\n",
       "      <td>not_cyberbullying</td>\n",
       "    </tr>\n",
       "    <tr>\n",
       "      <th>2</th>\n",
       "      <td>RT @_bobbidana: Never thought I'd say this but...</td>\n",
       "      <td>not_cyberbullying</td>\n",
       "    </tr>\n",
       "    <tr>\n",
       "      <th>3</th>\n",
       "      <td>She is intellectual terrorists and world suffe...</td>\n",
       "      <td>religion</td>\n",
       "    </tr>\n",
       "    <tr>\n",
       "      <th>4</th>\n",
       "      <td>You saudias are not friends of Muslim idiots c...</td>\n",
       "      <td>religion</td>\n",
       "    </tr>\n",
       "  </tbody>\n",
       "</table>\n",
       "</div>"
      ],
      "text/plain": [
       "                                          tweet_text   cyberbullying_type\n",
       "0  @AntonSirius @erinspice @prpltnkr @ChiefElk oh...  other_cyberbullying\n",
       "1  Ladies \"Bedroom Bully\" The Mix Cd By @GappyRan...    not_cyberbullying\n",
       "2  RT @_bobbidana: Never thought I'd say this but...    not_cyberbullying\n",
       "3  She is intellectual terrorists and world suffe...             religion\n",
       "4  You saudias are not friends of Muslim idiots c...             religion"
      ]
     },
     "execution_count": 1,
     "metadata": {},
     "output_type": "execute_result"
    }
   ],
   "source": [
    "#Importación de los datos\n",
    "import pandas as pd\n",
    "data_train = pd.read_csv('E:\\MATERIAS CURSADAS\\ONCEAVO SEMESTRE\\PLN\\cyberbullying_train.csv')\n",
    "data_test = pd.read_csv('E:\\MATERIAS CURSADAS\\ONCEAVO SEMESTRE\\PLN\\cyberbullying_test.csv')\n",
    "data_valid = pd.read_csv('E:\\MATERIAS CURSADAS\\ONCEAVO SEMESTRE\\PLN\\cyberbullying_val.csv')\n",
    "\n",
    "data_train.head()"
   ]
  },
  {
   "cell_type": "code",
   "execution_count": 2,
   "id": "2b0016f6",
   "metadata": {},
   "outputs": [
    {
     "data": {
      "text/html": [
       "<div>\n",
       "<style scoped>\n",
       "    .dataframe tbody tr th:only-of-type {\n",
       "        vertical-align: middle;\n",
       "    }\n",
       "\n",
       "    .dataframe tbody tr th {\n",
       "        vertical-align: top;\n",
       "    }\n",
       "\n",
       "    .dataframe thead th {\n",
       "        text-align: right;\n",
       "    }\n",
       "</style>\n",
       "<table border=\"1\" class=\"dataframe\">\n",
       "  <thead>\n",
       "    <tr style=\"text-align: right;\">\n",
       "      <th></th>\n",
       "      <th>tweet_text</th>\n",
       "      <th>cyberbullying_type</th>\n",
       "    </tr>\n",
       "  </thead>\n",
       "  <tbody>\n",
       "    <tr>\n",
       "      <th>0</th>\n",
       "      <td>@dankmtl Yeap, as a little Propaganda Nazi for...</td>\n",
       "      <td>religion</td>\n",
       "    </tr>\n",
       "    <tr>\n",
       "      <th>1</th>\n",
       "      <td>@LyndseyBoo wow!! Leave lyndsey phone alone!!!...</td>\n",
       "      <td>other_cyberbullying</td>\n",
       "    </tr>\n",
       "    <tr>\n",
       "      <th>2</th>\n",
       "      <td>I'm not a man, only know how to bully people :(</td>\n",
       "      <td>other_cyberbullying</td>\n",
       "    </tr>\n",
       "    <tr>\n",
       "      <th>3</th>\n",
       "      <td>@urgedharry @nyazpolitics @greenlinerzjm If yo...</td>\n",
       "      <td>religion</td>\n",
       "    </tr>\n",
       "    <tr>\n",
       "      <th>4</th>\n",
       "      <td>Calling people dumb isnt nice :( RT @tayyoung_...</td>\n",
       "      <td>ethnicity</td>\n",
       "    </tr>\n",
       "  </tbody>\n",
       "</table>\n",
       "</div>"
      ],
      "text/plain": [
       "                                          tweet_text   cyberbullying_type\n",
       "0  @dankmtl Yeap, as a little Propaganda Nazi for...             religion\n",
       "1  @LyndseyBoo wow!! Leave lyndsey phone alone!!!...  other_cyberbullying\n",
       "2    I'm not a man, only know how to bully people :(  other_cyberbullying\n",
       "3  @urgedharry @nyazpolitics @greenlinerzjm If yo...             religion\n",
       "4  Calling people dumb isnt nice :( RT @tayyoung_...            ethnicity"
      ]
     },
     "execution_count": 2,
     "metadata": {},
     "output_type": "execute_result"
    }
   ],
   "source": [
    "data_test.head()"
   ]
  },
  {
   "cell_type": "code",
   "execution_count": 3,
   "id": "c36a89c4",
   "metadata": {},
   "outputs": [
    {
     "data": {
      "text/html": [
       "<div>\n",
       "<style scoped>\n",
       "    .dataframe tbody tr th:only-of-type {\n",
       "        vertical-align: middle;\n",
       "    }\n",
       "\n",
       "    .dataframe tbody tr th {\n",
       "        vertical-align: top;\n",
       "    }\n",
       "\n",
       "    .dataframe thead th {\n",
       "        text-align: right;\n",
       "    }\n",
       "</style>\n",
       "<table border=\"1\" class=\"dataframe\">\n",
       "  <thead>\n",
       "    <tr style=\"text-align: right;\">\n",
       "      <th></th>\n",
       "      <th>tweet_text</th>\n",
       "      <th>cyberbullying_type</th>\n",
       "    </tr>\n",
       "  </thead>\n",
       "  <tbody>\n",
       "    <tr>\n",
       "      <th>0</th>\n",
       "      <td>But you idiot tagged and more also I'm a Muslim</td>\n",
       "      <td>religion</td>\n",
       "    </tr>\n",
       "    <tr>\n",
       "      <th>1</th>\n",
       "      <td>@SEXYLALA That's a dumb nigger never fuck LALA...</td>\n",
       "      <td>ethnicity</td>\n",
       "    </tr>\n",
       "    <tr>\n",
       "      <th>2</th>\n",
       "      <td>I never hear hispanics calling each other brow...</td>\n",
       "      <td>ethnicity</td>\n",
       "    </tr>\n",
       "    <tr>\n",
       "      <th>3</th>\n",
       "      <td>@Lenny_Banx nigger read it again such a dumb a...</td>\n",
       "      <td>ethnicity</td>\n",
       "    </tr>\n",
       "    <tr>\n",
       "      <th>4</th>\n",
       "      <td>She was a mean girl in high school. She and Mi...</td>\n",
       "      <td>age</td>\n",
       "    </tr>\n",
       "  </tbody>\n",
       "</table>\n",
       "</div>"
      ],
      "text/plain": [
       "                                          tweet_text cyberbullying_type\n",
       "0    But you idiot tagged and more also I'm a Muslim           religion\n",
       "1  @SEXYLALA That's a dumb nigger never fuck LALA...          ethnicity\n",
       "2  I never hear hispanics calling each other brow...          ethnicity\n",
       "3  @Lenny_Banx nigger read it again such a dumb a...          ethnicity\n",
       "4  She was a mean girl in high school. She and Mi...                age"
      ]
     },
     "execution_count": 3,
     "metadata": {},
     "output_type": "execute_result"
    }
   ],
   "source": [
    "data_valid.head()"
   ]
  },
  {
   "cell_type": "code",
   "execution_count": 4,
   "id": "acf07cb9",
   "metadata": {},
   "outputs": [
    {
     "data": {
      "text/plain": [
       "('2.4.1+cpu', '3.5.0')"
      ]
     },
     "execution_count": 4,
     "metadata": {},
     "output_type": "execute_result"
    }
   ],
   "source": [
    "#Bibliotecas necesarias\n",
    "import os\n",
    "os.environ['TF_CPP_MIN_LOG_LEVEL'] = '3' # Disable tensorflow debugging logs\n",
    "os.environ[\"KERAS_BACKEND\"] = \"torch\"\n",
    "import keras\n",
    "import torch\n",
    "\n",
    "torch.__version__, keras.__version__"
   ]
  },
  {
   "cell_type": "markdown",
   "id": "d779663f",
   "metadata": {},
   "source": [
    "- Verificación de cadenas vacías"
   ]
  },
  {
   "cell_type": "code",
   "execution_count": 5,
   "id": "23190ec7",
   "metadata": {},
   "outputs": [
    {
     "name": "stdout",
     "output_type": "stream",
     "text": [
      "0 0 0\n"
     ]
    }
   ],
   "source": [
    "cv_train = data_train['tweet_text'].isna().sum()\n",
    "cv_test = data_test['tweet_text'].isna().sum()\n",
    "cv_val = data_valid['tweet_text'].isna().sum()\n",
    "\n",
    "print(cv_train, cv_test, cv_val)"
   ]
  },
  {
   "cell_type": "code",
   "execution_count": 6,
   "id": "1cd41203",
   "metadata": {},
   "outputs": [
    {
     "data": {
      "text/plain": [
       "33384"
      ]
     },
     "execution_count": 6,
     "metadata": {},
     "output_type": "execute_result"
    }
   ],
   "source": [
    "len(data_train)"
   ]
  },
  {
   "cell_type": "markdown",
   "id": "ad2814dc",
   "metadata": {},
   "source": [
    "- Eliminación de duplicados"
   ]
  },
  {
   "cell_type": "code",
   "execution_count": 7,
   "id": "d409bed2",
   "metadata": {},
   "outputs": [
    {
     "data": {
      "text/plain": [
       "32534"
      ]
     },
     "execution_count": 7,
     "metadata": {},
     "output_type": "execute_result"
    }
   ],
   "source": [
    "data_train = data_train.drop_duplicates(subset=['tweet_text'])\n",
    "len(data_train)"
   ]
  },
  {
   "cell_type": "code",
   "execution_count": 8,
   "id": "00c1d7c9",
   "metadata": {},
   "outputs": [
    {
     "data": {
      "text/plain": [
       "7119"
      ]
     },
     "execution_count": 8,
     "metadata": {},
     "output_type": "execute_result"
    }
   ],
   "source": [
    "data_test = data_test.drop_duplicates(subset=['tweet_text'])\n",
    "len(data_test)"
   ]
  },
  {
   "cell_type": "code",
   "execution_count": 9,
   "id": "e46277e2",
   "metadata": {},
   "outputs": [
    {
     "data": {
      "text/plain": [
       "7118"
      ]
     },
     "execution_count": 9,
     "metadata": {},
     "output_type": "execute_result"
    }
   ],
   "source": [
    "data_valid = data_valid.drop_duplicates(subset=['tweet_text'])\n",
    "len(data_valid)"
   ]
  },
  {
   "cell_type": "code",
   "execution_count": 10,
   "id": "aa72bd94",
   "metadata": {},
   "outputs": [
    {
     "data": {
      "text/html": [
       "<div>\n",
       "<style scoped>\n",
       "    .dataframe tbody tr th:only-of-type {\n",
       "        vertical-align: middle;\n",
       "    }\n",
       "\n",
       "    .dataframe tbody tr th {\n",
       "        vertical-align: top;\n",
       "    }\n",
       "\n",
       "    .dataframe thead th {\n",
       "        text-align: right;\n",
       "    }\n",
       "</style>\n",
       "<table border=\"1\" class=\"dataframe\">\n",
       "  <thead>\n",
       "    <tr style=\"text-align: right;\">\n",
       "      <th></th>\n",
       "      <th>tweet_text</th>\n",
       "      <th>cyberbullying_type</th>\n",
       "    </tr>\n",
       "  </thead>\n",
       "  <tbody>\n",
       "    <tr>\n",
       "      <th>17111</th>\n",
       "      <td>&amp;amp; you might not get ya bitch back &amp;amp; t...</td>\n",
       "      <td>gender</td>\n",
       "    </tr>\n",
       "    <tr>\n",
       "      <th>2125</th>\n",
       "      <td>@rhythmixx_ :hobbies include: fighting Mariam</td>\n",
       "      <td>other_cyberbullying</td>\n",
       "    </tr>\n",
       "    <tr>\n",
       "      <th>16387</th>\n",
       "      <td>I fucking hate you</td>\n",
       "      <td>gender</td>\n",
       "    </tr>\n",
       "    <tr>\n",
       "      <th>4867</th>\n",
       "      <td>Keeks is a bitch she curves everyone  lol I w...</td>\n",
       "      <td>gender</td>\n",
       "    </tr>\n",
       "    <tr>\n",
       "      <th>26032</th>\n",
       "      <td>Murda Gang bitch its Gang Land</td>\n",
       "      <td>other_cyberbullying</td>\n",
       "    </tr>\n",
       "    <tr>\n",
       "      <th>...</th>\n",
       "      <td>...</td>\n",
       "      <td>...</td>\n",
       "    </tr>\n",
       "    <tr>\n",
       "      <th>31103</th>\n",
       "      <td>💕💕 the smell of blocks in the morning 💕💕</td>\n",
       "      <td>other_cyberbullying</td>\n",
       "    </tr>\n",
       "    <tr>\n",
       "      <th>30583</th>\n",
       "      <td>💩</td>\n",
       "      <td>other_cyberbullying</td>\n",
       "    </tr>\n",
       "    <tr>\n",
       "      <th>17401</th>\n",
       "      <td>😂😂😂 shame @ kat &amp;amp; andre #MKR</td>\n",
       "      <td>not_cyberbullying</td>\n",
       "    </tr>\n",
       "    <tr>\n",
       "      <th>24219</th>\n",
       "      <td>😂😂😂😂😂</td>\n",
       "      <td>gender</td>\n",
       "    </tr>\n",
       "    <tr>\n",
       "      <th>6333</th>\n",
       "      <td>😘 http://t.co/2QGNWHP3DE</td>\n",
       "      <td>other_cyberbullying</td>\n",
       "    </tr>\n",
       "  </tbody>\n",
       "</table>\n",
       "<p>32534 rows × 2 columns</p>\n",
       "</div>"
      ],
      "text/plain": [
       "                                              tweet_text   cyberbullying_type\n",
       "17111   &amp; you might not get ya bitch back &amp; t...               gender\n",
       "2125       @rhythmixx_ :hobbies include: fighting Mariam  other_cyberbullying\n",
       "16387                                 I fucking hate you               gender\n",
       "4867    Keeks is a bitch she curves everyone  lol I w...               gender\n",
       "26032                    Murda Gang bitch its Gang Land   other_cyberbullying\n",
       "...                                                  ...                  ...\n",
       "31103           💕💕 the smell of blocks in the morning 💕💕  other_cyberbullying\n",
       "30583                                                  💩  other_cyberbullying\n",
       "17401                   😂😂😂 shame @ kat &amp; andre #MKR    not_cyberbullying\n",
       "24219                                              😂😂😂😂😂               gender\n",
       "6333                            😘 http://t.co/2QGNWHP3DE  other_cyberbullying\n",
       "\n",
       "[32534 rows x 2 columns]"
      ]
     },
     "execution_count": 10,
     "metadata": {},
     "output_type": "execute_result"
    }
   ],
   "source": [
    "data_train.sort_values(by='tweet_text', ascending=True, inplace=False)"
   ]
  },
  {
   "cell_type": "markdown",
   "id": "c549b712",
   "metadata": {},
   "source": [
    "- Eliminar cadenas de espacios"
   ]
  },
  {
   "cell_type": "code",
   "execution_count": 11,
   "id": "3d644d98",
   "metadata": {},
   "outputs": [
    {
     "data": {
      "text/html": [
       "<div>\n",
       "<style scoped>\n",
       "    .dataframe tbody tr th:only-of-type {\n",
       "        vertical-align: middle;\n",
       "    }\n",
       "\n",
       "    .dataframe tbody tr th {\n",
       "        vertical-align: top;\n",
       "    }\n",
       "\n",
       "    .dataframe thead th {\n",
       "        text-align: right;\n",
       "    }\n",
       "</style>\n",
       "<table border=\"1\" class=\"dataframe\">\n",
       "  <thead>\n",
       "    <tr style=\"text-align: right;\">\n",
       "      <th></th>\n",
       "      <th>tweet_text</th>\n",
       "      <th>cyberbullying_type</th>\n",
       "    </tr>\n",
       "  </thead>\n",
       "  <tbody>\n",
       "    <tr>\n",
       "      <th>0</th>\n",
       "      <td>@AntonSirius @erinspice @prpltnkr @ChiefElk oh...</td>\n",
       "      <td>other_cyberbullying</td>\n",
       "    </tr>\n",
       "    <tr>\n",
       "      <th>1</th>\n",
       "      <td>Ladies \"Bedroom Bully\" The Mix Cd By @GappyRan...</td>\n",
       "      <td>not_cyberbullying</td>\n",
       "    </tr>\n",
       "    <tr>\n",
       "      <th>2</th>\n",
       "      <td>RT @_bobbidana: Never thought I'd say this but...</td>\n",
       "      <td>not_cyberbullying</td>\n",
       "    </tr>\n",
       "    <tr>\n",
       "      <th>3</th>\n",
       "      <td>She is intellectual terrorists and world suffe...</td>\n",
       "      <td>religion</td>\n",
       "    </tr>\n",
       "    <tr>\n",
       "      <th>4</th>\n",
       "      <td>You saudias are not friends of Muslim idiots c...</td>\n",
       "      <td>religion</td>\n",
       "    </tr>\n",
       "    <tr>\n",
       "      <th>...</th>\n",
       "      <td>...</td>\n",
       "      <td>...</td>\n",
       "    </tr>\n",
       "    <tr>\n",
       "      <th>33378</th>\n",
       "      <td>Just asking which people on the planet weren't...</td>\n",
       "      <td>ethnicity</td>\n",
       "    </tr>\n",
       "    <tr>\n",
       "      <th>33379</th>\n",
       "      <td>Missing school for the Grey Cup festivall at N...</td>\n",
       "      <td>not_cyberbullying</td>\n",
       "    </tr>\n",
       "    <tr>\n",
       "      <th>33380</th>\n",
       "      <td>Seriously, \"lady\" is what my mom calls her clo...</td>\n",
       "      <td>gender</td>\n",
       "    </tr>\n",
       "    <tr>\n",
       "      <th>33381</th>\n",
       "      <td>Same as religion, one rule for muslims ,one ru...</td>\n",
       "      <td>religion</td>\n",
       "    </tr>\n",
       "    <tr>\n",
       "      <th>33383</th>\n",
       "      <td>CLOUD (edited): “It’s lazy for a comedian to b...</td>\n",
       "      <td>gender</td>\n",
       "    </tr>\n",
       "  </tbody>\n",
       "</table>\n",
       "<p>32534 rows × 2 columns</p>\n",
       "</div>"
      ],
      "text/plain": [
       "                                              tweet_text   cyberbullying_type\n",
       "0      @AntonSirius @erinspice @prpltnkr @ChiefElk oh...  other_cyberbullying\n",
       "1      Ladies \"Bedroom Bully\" The Mix Cd By @GappyRan...    not_cyberbullying\n",
       "2      RT @_bobbidana: Never thought I'd say this but...    not_cyberbullying\n",
       "3      She is intellectual terrorists and world suffe...             religion\n",
       "4      You saudias are not friends of Muslim idiots c...             religion\n",
       "...                                                  ...                  ...\n",
       "33378  Just asking which people on the planet weren't...            ethnicity\n",
       "33379  Missing school for the Grey Cup festivall at N...    not_cyberbullying\n",
       "33380  Seriously, \"lady\" is what my mom calls her clo...               gender\n",
       "33381  Same as religion, one rule for muslims ,one ru...             religion\n",
       "33383  CLOUD (edited): “It’s lazy for a comedian to b...               gender\n",
       "\n",
       "[32534 rows x 2 columns]"
      ]
     },
     "execution_count": 11,
     "metadata": {},
     "output_type": "execute_result"
    }
   ],
   "source": [
    "data_train = data_train[data_train['tweet_text'].str.strip() != '']\n",
    "data_train"
   ]
  },
  {
   "cell_type": "code",
   "execution_count": 12,
   "id": "a0e020b1",
   "metadata": {},
   "outputs": [
    {
     "data": {
      "text/html": [
       "<div>\n",
       "<style scoped>\n",
       "    .dataframe tbody tr th:only-of-type {\n",
       "        vertical-align: middle;\n",
       "    }\n",
       "\n",
       "    .dataframe tbody tr th {\n",
       "        vertical-align: top;\n",
       "    }\n",
       "\n",
       "    .dataframe thead th {\n",
       "        text-align: right;\n",
       "    }\n",
       "</style>\n",
       "<table border=\"1\" class=\"dataframe\">\n",
       "  <thead>\n",
       "    <tr style=\"text-align: right;\">\n",
       "      <th></th>\n",
       "      <th>tweet_text</th>\n",
       "      <th>cyberbullying_type</th>\n",
       "    </tr>\n",
       "  </thead>\n",
       "  <tbody>\n",
       "    <tr>\n",
       "      <th>0</th>\n",
       "      <td>@dankmtl Yeap, as a little Propaganda Nazi for...</td>\n",
       "      <td>religion</td>\n",
       "    </tr>\n",
       "    <tr>\n",
       "      <th>1</th>\n",
       "      <td>@LyndseyBoo wow!! Leave lyndsey phone alone!!!...</td>\n",
       "      <td>other_cyberbullying</td>\n",
       "    </tr>\n",
       "    <tr>\n",
       "      <th>2</th>\n",
       "      <td>I'm not a man, only know how to bully people :(</td>\n",
       "      <td>other_cyberbullying</td>\n",
       "    </tr>\n",
       "    <tr>\n",
       "      <th>3</th>\n",
       "      <td>@urgedharry @nyazpolitics @greenlinerzjm If yo...</td>\n",
       "      <td>religion</td>\n",
       "    </tr>\n",
       "    <tr>\n",
       "      <th>4</th>\n",
       "      <td>Calling people dumb isnt nice :( RT @tayyoung_...</td>\n",
       "      <td>ethnicity</td>\n",
       "    </tr>\n",
       "    <tr>\n",
       "      <th>...</th>\n",
       "      <td>...</td>\n",
       "      <td>...</td>\n",
       "    </tr>\n",
       "    <tr>\n",
       "      <th>7149</th>\n",
       "      <td>@gameragodzilla @Totalbiscuit @Grummz @BenKuch...</td>\n",
       "      <td>other_cyberbullying</td>\n",
       "    </tr>\n",
       "    <tr>\n",
       "      <th>7150</th>\n",
       "      <td>Everyone upset about Amy Schumer's gay jokes s...</td>\n",
       "      <td>gender</td>\n",
       "    </tr>\n",
       "    <tr>\n",
       "      <th>7151</th>\n",
       "      <td>The way that every pyramid scheme girl was a b...</td>\n",
       "      <td>age</td>\n",
       "    </tr>\n",
       "    <tr>\n",
       "      <th>7152</th>\n",
       "      <td>bro you can bully the kids at school but you c...</td>\n",
       "      <td>age</td>\n",
       "    </tr>\n",
       "    <tr>\n",
       "      <th>7153</th>\n",
       "      <td>@Stevie_Bull saw yow pullin out of the Molindu...</td>\n",
       "      <td>other_cyberbullying</td>\n",
       "    </tr>\n",
       "  </tbody>\n",
       "</table>\n",
       "<p>7119 rows × 2 columns</p>\n",
       "</div>"
      ],
      "text/plain": [
       "                                             tweet_text   cyberbullying_type\n",
       "0     @dankmtl Yeap, as a little Propaganda Nazi for...             religion\n",
       "1     @LyndseyBoo wow!! Leave lyndsey phone alone!!!...  other_cyberbullying\n",
       "2       I'm not a man, only know how to bully people :(  other_cyberbullying\n",
       "3     @urgedharry @nyazpolitics @greenlinerzjm If yo...             religion\n",
       "4     Calling people dumb isnt nice :( RT @tayyoung_...            ethnicity\n",
       "...                                                 ...                  ...\n",
       "7149  @gameragodzilla @Totalbiscuit @Grummz @BenKuch...  other_cyberbullying\n",
       "7150  Everyone upset about Amy Schumer's gay jokes s...               gender\n",
       "7151  The way that every pyramid scheme girl was a b...                  age\n",
       "7152  bro you can bully the kids at school but you c...                  age\n",
       "7153  @Stevie_Bull saw yow pullin out of the Molindu...  other_cyberbullying\n",
       "\n",
       "[7119 rows x 2 columns]"
      ]
     },
     "execution_count": 12,
     "metadata": {},
     "output_type": "execute_result"
    }
   ],
   "source": [
    "data_test = data_test[data_test['tweet_text'].str.strip() != '']\n",
    "data_test"
   ]
  },
  {
   "cell_type": "code",
   "execution_count": 13,
   "id": "9d0eb551",
   "metadata": {},
   "outputs": [
    {
     "data": {
      "text/html": [
       "<div>\n",
       "<style scoped>\n",
       "    .dataframe tbody tr th:only-of-type {\n",
       "        vertical-align: middle;\n",
       "    }\n",
       "\n",
       "    .dataframe tbody tr th {\n",
       "        vertical-align: top;\n",
       "    }\n",
       "\n",
       "    .dataframe thead th {\n",
       "        text-align: right;\n",
       "    }\n",
       "</style>\n",
       "<table border=\"1\" class=\"dataframe\">\n",
       "  <thead>\n",
       "    <tr style=\"text-align: right;\">\n",
       "      <th></th>\n",
       "      <th>tweet_text</th>\n",
       "      <th>cyberbullying_type</th>\n",
       "    </tr>\n",
       "  </thead>\n",
       "  <tbody>\n",
       "    <tr>\n",
       "      <th>0</th>\n",
       "      <td>But you idiot tagged and more also I'm a Muslim</td>\n",
       "      <td>religion</td>\n",
       "    </tr>\n",
       "    <tr>\n",
       "      <th>1</th>\n",
       "      <td>@SEXYLALA That's a dumb nigger never fuck LALA...</td>\n",
       "      <td>ethnicity</td>\n",
       "    </tr>\n",
       "    <tr>\n",
       "      <th>2</th>\n",
       "      <td>I never hear hispanics calling each other brow...</td>\n",
       "      <td>ethnicity</td>\n",
       "    </tr>\n",
       "    <tr>\n",
       "      <th>3</th>\n",
       "      <td>@Lenny_Banx nigger read it again such a dumb a...</td>\n",
       "      <td>ethnicity</td>\n",
       "    </tr>\n",
       "    <tr>\n",
       "      <th>4</th>\n",
       "      <td>She was a mean girl in high school. She and Mi...</td>\n",
       "      <td>age</td>\n",
       "    </tr>\n",
       "    <tr>\n",
       "      <th>...</th>\n",
       "      <td>...</td>\n",
       "      <td>...</td>\n",
       "    </tr>\n",
       "    <tr>\n",
       "      <th>7149</th>\n",
       "      <td>haha.erdogan started syrian conflict or the we...</td>\n",
       "      <td>religion</td>\n",
       "    </tr>\n",
       "    <tr>\n",
       "      <th>7150</th>\n",
       "      <td>@discerningmumin That's idiotic. Not holding a...</td>\n",
       "      <td>religion</td>\n",
       "    </tr>\n",
       "    <tr>\n",
       "      <th>7151</th>\n",
       "      <td>This is way past George Floyd. Everyone is agr...</td>\n",
       "      <td>ethnicity</td>\n",
       "    </tr>\n",
       "    <tr>\n",
       "      <th>7152</th>\n",
       "      <td>I'm not important. The things I'm working on a...</td>\n",
       "      <td>other_cyberbullying</td>\n",
       "    </tr>\n",
       "    <tr>\n",
       "      <th>7153</th>\n",
       "      <td>Nah I really felt this. I had friends who I fe...</td>\n",
       "      <td>age</td>\n",
       "    </tr>\n",
       "  </tbody>\n",
       "</table>\n",
       "<p>7118 rows × 2 columns</p>\n",
       "</div>"
      ],
      "text/plain": [
       "                                             tweet_text   cyberbullying_type\n",
       "0       But you idiot tagged and more also I'm a Muslim             religion\n",
       "1     @SEXYLALA That's a dumb nigger never fuck LALA...            ethnicity\n",
       "2     I never hear hispanics calling each other brow...            ethnicity\n",
       "3     @Lenny_Banx nigger read it again such a dumb a...            ethnicity\n",
       "4     She was a mean girl in high school. She and Mi...                  age\n",
       "...                                                 ...                  ...\n",
       "7149  haha.erdogan started syrian conflict or the we...             religion\n",
       "7150  @discerningmumin That's idiotic. Not holding a...             religion\n",
       "7151  This is way past George Floyd. Everyone is agr...            ethnicity\n",
       "7152  I'm not important. The things I'm working on a...  other_cyberbullying\n",
       "7153  Nah I really felt this. I had friends who I fe...                  age\n",
       "\n",
       "[7118 rows x 2 columns]"
      ]
     },
     "execution_count": 13,
     "metadata": {},
     "output_type": "execute_result"
    }
   ],
   "source": [
    "data_valid = data_valid[data_valid['tweet_text'].str.strip() != '']\n",
    "data_valid"
   ]
  },
  {
   "cell_type": "markdown",
   "id": "d1d6d0d0",
   "metadata": {},
   "source": [
    "- Se elimina toda la puntuación "
   ]
  },
  {
   "cell_type": "code",
   "execution_count": 14,
   "id": "1850a8da",
   "metadata": {},
   "outputs": [],
   "source": [
    "import string"
   ]
  },
  {
   "cell_type": "code",
   "execution_count": 15,
   "id": "79a52c63",
   "metadata": {},
   "outputs": [
    {
     "data": {
      "text/html": [
       "<div>\n",
       "<style scoped>\n",
       "    .dataframe tbody tr th:only-of-type {\n",
       "        vertical-align: middle;\n",
       "    }\n",
       "\n",
       "    .dataframe tbody tr th {\n",
       "        vertical-align: top;\n",
       "    }\n",
       "\n",
       "    .dataframe thead th {\n",
       "        text-align: right;\n",
       "    }\n",
       "</style>\n",
       "<table border=\"1\" class=\"dataframe\">\n",
       "  <thead>\n",
       "    <tr style=\"text-align: right;\">\n",
       "      <th></th>\n",
       "      <th>tweet_text</th>\n",
       "      <th>cyberbullying_type</th>\n",
       "    </tr>\n",
       "  </thead>\n",
       "  <tbody>\n",
       "    <tr>\n",
       "      <th>0</th>\n",
       "      <td>antonsirius erinspice prpltnkr chiefelk oh dea...</td>\n",
       "      <td>other_cyberbullying</td>\n",
       "    </tr>\n",
       "    <tr>\n",
       "      <th>1</th>\n",
       "      <td>ladies bedroom bully the mix cd by gappyranks ...</td>\n",
       "      <td>not_cyberbullying</td>\n",
       "    </tr>\n",
       "    <tr>\n",
       "      <th>2</th>\n",
       "      <td>rt bobbidana never thought id say this but i h...</td>\n",
       "      <td>not_cyberbullying</td>\n",
       "    </tr>\n",
       "    <tr>\n",
       "      <th>3</th>\n",
       "      <td>she is intellectual terrorists and world suffe...</td>\n",
       "      <td>religion</td>\n",
       "    </tr>\n",
       "    <tr>\n",
       "      <th>4</th>\n",
       "      <td>you saudias are not friends of muslim idiots c...</td>\n",
       "      <td>religion</td>\n",
       "    </tr>\n",
       "  </tbody>\n",
       "</table>\n",
       "</div>"
      ],
      "text/plain": [
       "                                          tweet_text   cyberbullying_type\n",
       "0  antonsirius erinspice prpltnkr chiefelk oh dea...  other_cyberbullying\n",
       "1  ladies bedroom bully the mix cd by gappyranks ...    not_cyberbullying\n",
       "2  rt bobbidana never thought id say this but i h...    not_cyberbullying\n",
       "3  she is intellectual terrorists and world suffe...             religion\n",
       "4  you saudias are not friends of muslim idiots c...             religion"
      ]
     },
     "execution_count": 15,
     "metadata": {},
     "output_type": "execute_result"
    }
   ],
   "source": [
    "data_train['tweet_text'] = data_train['tweet_text'].str.lower().str.translate(str.maketrans('', '', string.punctuation))\n",
    "data_train.head()"
   ]
  },
  {
   "cell_type": "code",
   "execution_count": 16,
   "id": "d50fee8c",
   "metadata": {},
   "outputs": [
    {
     "data": {
      "text/html": [
       "<div>\n",
       "<style scoped>\n",
       "    .dataframe tbody tr th:only-of-type {\n",
       "        vertical-align: middle;\n",
       "    }\n",
       "\n",
       "    .dataframe tbody tr th {\n",
       "        vertical-align: top;\n",
       "    }\n",
       "\n",
       "    .dataframe thead th {\n",
       "        text-align: right;\n",
       "    }\n",
       "</style>\n",
       "<table border=\"1\" class=\"dataframe\">\n",
       "  <thead>\n",
       "    <tr style=\"text-align: right;\">\n",
       "      <th></th>\n",
       "      <th>tweet_text</th>\n",
       "      <th>cyberbullying_type</th>\n",
       "    </tr>\n",
       "  </thead>\n",
       "  <tbody>\n",
       "    <tr>\n",
       "      <th>0</th>\n",
       "      <td>dankmtl yeap as a little propaganda nazi for t...</td>\n",
       "      <td>religion</td>\n",
       "    </tr>\n",
       "    <tr>\n",
       "      <th>1</th>\n",
       "      <td>lyndseyboo wow leave lyndsey phone alone bully...</td>\n",
       "      <td>other_cyberbullying</td>\n",
       "    </tr>\n",
       "    <tr>\n",
       "      <th>2</th>\n",
       "      <td>im not a man only know how to bully people</td>\n",
       "      <td>other_cyberbullying</td>\n",
       "    </tr>\n",
       "    <tr>\n",
       "      <th>3</th>\n",
       "      <td>urgedharry nyazpolitics greenlinerzjm if you a...</td>\n",
       "      <td>religion</td>\n",
       "    </tr>\n",
       "    <tr>\n",
       "      <th>4</th>\n",
       "      <td>calling people dumb isnt nice  rt tayyoung fuc...</td>\n",
       "      <td>ethnicity</td>\n",
       "    </tr>\n",
       "  </tbody>\n",
       "</table>\n",
       "</div>"
      ],
      "text/plain": [
       "                                          tweet_text   cyberbullying_type\n",
       "0  dankmtl yeap as a little propaganda nazi for t...             religion\n",
       "1  lyndseyboo wow leave lyndsey phone alone bully...  other_cyberbullying\n",
       "2        im not a man only know how to bully people   other_cyberbullying\n",
       "3  urgedharry nyazpolitics greenlinerzjm if you a...             religion\n",
       "4  calling people dumb isnt nice  rt tayyoung fuc...            ethnicity"
      ]
     },
     "execution_count": 16,
     "metadata": {},
     "output_type": "execute_result"
    }
   ],
   "source": [
    "data_test['tweet_text'] = data_test['tweet_text'].str.lower().str.translate(str.maketrans('', '', string.punctuation))\n",
    "data_test.head()"
   ]
  },
  {
   "cell_type": "code",
   "execution_count": 17,
   "id": "5fa303c9",
   "metadata": {},
   "outputs": [
    {
     "data": {
      "text/html": [
       "<div>\n",
       "<style scoped>\n",
       "    .dataframe tbody tr th:only-of-type {\n",
       "        vertical-align: middle;\n",
       "    }\n",
       "\n",
       "    .dataframe tbody tr th {\n",
       "        vertical-align: top;\n",
       "    }\n",
       "\n",
       "    .dataframe thead th {\n",
       "        text-align: right;\n",
       "    }\n",
       "</style>\n",
       "<table border=\"1\" class=\"dataframe\">\n",
       "  <thead>\n",
       "    <tr style=\"text-align: right;\">\n",
       "      <th></th>\n",
       "      <th>tweet_text</th>\n",
       "      <th>cyberbullying_type</th>\n",
       "    </tr>\n",
       "  </thead>\n",
       "  <tbody>\n",
       "    <tr>\n",
       "      <th>0</th>\n",
       "      <td>but you idiot tagged and more also im a muslim</td>\n",
       "      <td>religion</td>\n",
       "    </tr>\n",
       "    <tr>\n",
       "      <th>1</th>\n",
       "      <td>sexylala thats a dumb nigger never fuck lala h...</td>\n",
       "      <td>ethnicity</td>\n",
       "    </tr>\n",
       "    <tr>\n",
       "      <th>2</th>\n",
       "      <td>i never hear hispanics calling each other brow...</td>\n",
       "      <td>ethnicity</td>\n",
       "    </tr>\n",
       "    <tr>\n",
       "      <th>3</th>\n",
       "      <td>lennybanx nigger read it again such a dumb ass...</td>\n",
       "      <td>ethnicity</td>\n",
       "    </tr>\n",
       "    <tr>\n",
       "      <th>4</th>\n",
       "      <td>she was a mean girl in high school she and mim...</td>\n",
       "      <td>age</td>\n",
       "    </tr>\n",
       "  </tbody>\n",
       "</table>\n",
       "</div>"
      ],
      "text/plain": [
       "                                          tweet_text cyberbullying_type\n",
       "0     but you idiot tagged and more also im a muslim           religion\n",
       "1  sexylala thats a dumb nigger never fuck lala h...          ethnicity\n",
       "2  i never hear hispanics calling each other brow...          ethnicity\n",
       "3  lennybanx nigger read it again such a dumb ass...          ethnicity\n",
       "4  she was a mean girl in high school she and mim...                age"
      ]
     },
     "execution_count": 17,
     "metadata": {},
     "output_type": "execute_result"
    }
   ],
   "source": [
    "data_valid['tweet_text'] = data_valid['tweet_text'].str.lower().str.translate(str.maketrans('', '', string.punctuation))\n",
    "data_valid.head()"
   ]
  },
  {
   "cell_type": "markdown",
   "id": "334ab046",
   "metadata": {},
   "source": [
    "- Clasificación en clases de los tipos de twwets que tenemos"
   ]
  },
  {
   "cell_type": "code",
   "execution_count": 18,
   "id": "55ae20f8",
   "metadata": {},
   "outputs": [
    {
     "name": "stdout",
     "output_type": "stream",
     "text": [
      "[[0. 0. 0. 0. 1. 0.]\n",
      " [0. 1. 0. 0. 0. 0.]\n",
      " [0. 1. 0. 0. 0. 0.]\n",
      " ...\n",
      " [0. 0. 0. 1. 0. 0.]\n",
      " [0. 0. 1. 0. 0. 0.]\n",
      " [0. 0. 0. 1. 0. 0.]]\n"
     ]
    }
   ],
   "source": [
    "#Uso de tf.data para la clasificación de clases a partir de vectores ONE-HOT\n",
    "import tensorflow as tf\n",
    "\n",
    "#Vectores ONE-HOT del conjunto de entrenamiento, prueba y validación\n",
    "vector_train = data_train['cyberbullying_type']\n",
    "vector_test = data_test['cyberbullying_type']\n",
    "vector_val = data_valid['cyberbullying_type']\n",
    "\n",
    "def mapeo_one_hot(vectores):\n",
    "    categorias = list(set(vectores))\n",
    "    valor_categorias = {vectores: index for index, vectores in enumerate(categorias)}\n",
    "\n",
    "    indices = [valor_categorias[vector] for vector in vectores]\n",
    "\n",
    "    one_hot = tf.one_hot(indices, depth=len(categorias))\n",
    "\n",
    "    return one_hot\n",
    "\n",
    "one_hot_train = mapeo_one_hot(vector_train)\n",
    "one_hot_test = mapeo_one_hot(vector_test)\n",
    "one_hot_val = mapeo_one_hot(vector_val)\n",
    "\n",
    "print(one_hot_train.numpy())"
   ]
  },
  {
   "cell_type": "code",
   "execution_count": 19,
   "id": "edcc8072",
   "metadata": {},
   "outputs": [],
   "source": [
    "import tensorflow as tf\n",
    "from keras.layers import TextVectorization\n",
    "from sklearn.model_selection import train_test_split\n",
    "import time\n",
    "\n",
    "X_train = data_train['tweet_text'].values\n",
    "y_train = one_hot_train\n",
    "\n",
    "x_test = data_test['tweet_text'].values\n",
    "y_test = one_hot_test\n",
    "\n",
    "x_val = data_valid['tweet_text'].values\n",
    "y_val = one_hot_val"
   ]
  },
  {
   "cell_type": "code",
   "execution_count": 20,
   "id": "8ef22047",
   "metadata": {},
   "outputs": [
    {
     "data": {
      "text/plain": [
       "(32534, 7119, 7118)"
      ]
     },
     "execution_count": 20,
     "metadata": {},
     "output_type": "execute_result"
    }
   ],
   "source": [
    "len(X_train), len(x_test), len(x_val)"
   ]
  },
  {
   "cell_type": "code",
   "execution_count": 21,
   "id": "07288c53",
   "metadata": {},
   "outputs": [],
   "source": [
    "raw_train_ds = tf.data.Dataset.from_tensor_slices((X_train, y_train))\n",
    "raw_test_ds = tf.data.Dataset.from_tensor_slices((x_test, y_test))\n",
    "raw_val_ds = tf.data.Dataset.from_tensor_slices((x_val, y_val))"
   ]
  },
  {
   "cell_type": "code",
   "execution_count": 22,
   "id": "a0230c36",
   "metadata": {},
   "outputs": [
    {
     "name": "stdout",
     "output_type": "stream",
     "text": [
      "Time for adapt is 175.0320\n"
     ]
    }
   ],
   "source": [
    "# Tamaño de vocabulario\n",
    "vocab_size = 10000\n",
    "\n",
    "vectorize_layer = TextVectorization(\n",
    "    standardize=None,\n",
    "    max_tokens=vocab_size,\n",
    "    output_mode='tf-idf')\n",
    "\n",
    "# Obtener el texto sin etiquetas\n",
    "text_ds = raw_train_ds.map(lambda x, y: x)\n",
    "start = time.time()\n",
    "vectorize_layer.adapt(text_ds)\n",
    "print(f'Time for adapt is {time.time()-start:.4f}')"
   ]
  },
  {
   "cell_type": "code",
   "execution_count": 23,
   "id": "c4415d3e",
   "metadata": {},
   "outputs": [],
   "source": [
    "batch_size = 64\n",
    "raw_train_ds = raw_train_ds.shuffle(20000).batch(batch_size)\n",
    "raw_test_ds = raw_test_ds.batch(batch_size)\n",
    "raw_val_ds = raw_val_ds.batch(batch_size)"
   ]
  },
  {
   "cell_type": "code",
   "execution_count": 24,
   "id": "e06590e5",
   "metadata": {},
   "outputs": [
    {
     "name": "stdout",
     "output_type": "stream",
     "text": [
      "tf.Tensor(\n",
      "[b'watching wadhwa claim that he never received financial compensation oh sweets we know this isnt how that works stopwadhwa2015'\n",
      " b'i remember the shame and anxiety i felt about telling my family and friends i was straight in high school a classmate caught me holding hands with a girl and told the whole school i was straight i was bullied mercilessly i still remember every joke and insult 10 years later'], shape=(2,), dtype=string) tf.Tensor(\n",
      "[[0. 0. 0. 0. 1. 0.]\n",
      " [0. 0. 0. 0. 0. 1.]], shape=(2, 6), dtype=float32)\n"
     ]
    }
   ],
   "source": [
    "for inp, target in raw_train_ds.take(1):\n",
    "    print(inp[:2], target[:2])"
   ]
  },
  {
   "cell_type": "code",
   "execution_count": 25,
   "id": "6051fcb6",
   "metadata": {},
   "outputs": [
    {
     "data": {
      "text/plain": [
       "tensor([[7.7002, 0.0000, 0.0000,  ..., 0.0000, 0.0000, 0.0000],\n",
       "        [0.0000, 2.4530, 2.6519,  ..., 0.0000, 0.0000, 0.0000],\n",
       "        [7.7002, 0.0000, 0.0000,  ..., 0.0000, 0.0000, 0.0000],\n",
       "        ...,\n",
       "        [0.0000, 0.0000, 0.0000,  ..., 0.0000, 0.0000, 0.0000],\n",
       "        [7.7002, 0.0000, 2.6519,  ..., 0.0000, 0.0000, 0.0000],\n",
       "        [0.0000, 1.2265, 1.3260,  ..., 0.0000, 0.0000, 0.0000]])"
      ]
     },
     "execution_count": 25,
     "metadata": {},
     "output_type": "execute_result"
    }
   ],
   "source": [
    "vectorize_layer(inp)"
   ]
  },
  {
   "cell_type": "code",
   "execution_count": 26,
   "id": "a086b650",
   "metadata": {},
   "outputs": [],
   "source": [
    "def preprocess(x, y):\n",
    "    x = vectorize_layer(x)\n",
    "    return x, y\n",
    "\n",
    "train_ds = raw_train_ds.map(lambda x, y: preprocess(x, y))\n",
    "val_ds = raw_val_ds.map(lambda x, y: preprocess(x, y))\n",
    "test_ds = raw_test_ds.map(lambda x, y: preprocess(x, y))"
   ]
  },
  {
   "cell_type": "code",
   "execution_count": 27,
   "id": "f7714004",
   "metadata": {},
   "outputs": [
    {
     "data": {
      "text/plain": [
       "(<tf.Tensor: shape=(64, 10000), dtype=float32, numpy=\n",
       " array([[23.10065  ,  1.2264812,  1.3259579, ...,  0.       ,  0.       ,\n",
       "          0.       ],\n",
       "        [ 0.       ,  4.905925 ,  0.       , ...,  0.       ,  0.       ,\n",
       "          0.       ],\n",
       "        [ 0.       ,  1.2264812,  1.3259579, ...,  0.       ,  0.       ,\n",
       "          0.       ],\n",
       "        ...,\n",
       "        [15.400434 ,  2.4529624,  2.6519158, ...,  0.       ,  0.       ,\n",
       "          0.       ],\n",
       "        [ 7.700217 ,  1.2264812,  0.       , ...,  0.       ,  0.       ,\n",
       "          0.       ],\n",
       "        [ 7.700217 ,  0.       ,  0.       , ...,  0.       ,  0.       ,\n",
       "          0.       ]], dtype=float32)>,\n",
       " <tf.Tensor: shape=(64, 6), dtype=float32, numpy=\n",
       " array([[0., 0., 1., 0., 0., 0.],\n",
       "        [0., 0., 1., 0., 0., 0.],\n",
       "        [0., 0., 0., 0., 0., 1.],\n",
       "        [0., 0., 1., 0., 0., 0.],\n",
       "        [0., 0., 1., 0., 0., 0.],\n",
       "        [0., 0., 0., 1., 0., 0.],\n",
       "        [0., 0., 0., 1., 0., 0.],\n",
       "        [0., 0., 0., 1., 0., 0.],\n",
       "        [0., 0., 1., 0., 0., 0.],\n",
       "        [0., 0., 0., 1., 0., 0.],\n",
       "        [0., 0., 1., 0., 0., 0.],\n",
       "        [0., 0., 0., 0., 0., 1.],\n",
       "        [0., 1., 0., 0., 0., 0.],\n",
       "        [0., 0., 0., 1., 0., 0.],\n",
       "        [0., 0., 0., 1., 0., 0.],\n",
       "        [0., 0., 0., 0., 0., 1.],\n",
       "        [0., 0., 0., 0., 1., 0.],\n",
       "        [0., 0., 0., 0., 1., 0.],\n",
       "        [1., 0., 0., 0., 0., 0.],\n",
       "        [1., 0., 0., 0., 0., 0.],\n",
       "        [0., 1., 0., 0., 0., 0.],\n",
       "        [0., 0., 0., 0., 1., 0.],\n",
       "        [0., 0., 0., 0., 1., 0.],\n",
       "        [0., 0., 1., 0., 0., 0.],\n",
       "        [1., 0., 0., 0., 0., 0.],\n",
       "        [0., 0., 0., 0., 1., 0.],\n",
       "        [0., 0., 0., 0., 1., 0.],\n",
       "        [0., 0., 0., 0., 1., 0.],\n",
       "        [1., 0., 0., 0., 0., 0.],\n",
       "        [1., 0., 0., 0., 0., 0.],\n",
       "        [0., 0., 1., 0., 0., 0.],\n",
       "        [1., 0., 0., 0., 0., 0.],\n",
       "        [0., 0., 0., 0., 0., 1.],\n",
       "        [0., 0., 0., 0., 0., 1.],\n",
       "        [0., 0., 0., 0., 1., 0.],\n",
       "        [0., 0., 0., 0., 0., 1.],\n",
       "        [0., 0., 0., 0., 0., 1.],\n",
       "        [0., 0., 0., 0., 1., 0.],\n",
       "        [0., 0., 0., 0., 0., 1.],\n",
       "        [0., 0., 0., 0., 1., 0.],\n",
       "        [0., 0., 0., 0., 1., 0.],\n",
       "        [0., 0., 1., 0., 0., 0.],\n",
       "        [0., 0., 1., 0., 0., 0.],\n",
       "        [0., 1., 0., 0., 0., 0.],\n",
       "        [0., 1., 0., 0., 0., 0.],\n",
       "        [0., 0., 0., 0., 1., 0.],\n",
       "        [1., 0., 0., 0., 0., 0.],\n",
       "        [0., 0., 1., 0., 0., 0.],\n",
       "        [0., 0., 0., 0., 0., 1.],\n",
       "        [0., 1., 0., 0., 0., 0.],\n",
       "        [0., 0., 0., 0., 1., 0.],\n",
       "        [1., 0., 0., 0., 0., 0.],\n",
       "        [0., 0., 1., 0., 0., 0.],\n",
       "        [0., 0., 1., 0., 0., 0.],\n",
       "        [1., 0., 0., 0., 0., 0.],\n",
       "        [0., 0., 0., 1., 0., 0.],\n",
       "        [0., 0., 0., 0., 0., 1.],\n",
       "        [0., 1., 0., 0., 0., 0.],\n",
       "        [0., 0., 0., 1., 0., 0.],\n",
       "        [0., 0., 1., 0., 0., 0.],\n",
       "        [0., 0., 0., 0., 0., 1.],\n",
       "        [0., 0., 1., 0., 0., 0.],\n",
       "        [0., 1., 0., 0., 0., 0.],\n",
       "        [0., 1., 0., 0., 0., 0.]], dtype=float32)>)"
      ]
     },
     "execution_count": 27,
     "metadata": {},
     "output_type": "execute_result"
    }
   ],
   "source": [
    "next(iter(train_ds))"
   ]
  },
  {
   "cell_type": "markdown",
   "id": "fe42584d",
   "metadata": {},
   "source": [
    "- Construcción del modelo de red neuronal."
   ]
  },
  {
   "cell_type": "code",
   "execution_count": 28,
   "id": "984cda87",
   "metadata": {},
   "outputs": [],
   "source": [
    "class Linear(keras.layers.Layer):\n",
    "    def __init__(self, num_outputs, activation=None):\n",
    "        super().__init__()\n",
    "        self.num_outputs = num_outputs\n",
    "        self.activation = keras.activations.get(activation)\n",
    "\n",
    "    def build(self, input_shape):\n",
    "      input_dim = input_shape[-1]\n",
    "      self.w = self.add_weight(shape=[input_dim,\n",
    "                                      self.num_outputs],\n",
    "                               name = 'kernel')\n",
    "      self.b = self.add_weight(shape=[self.num_outputs],\n",
    "                               name = 'bias')\n",
    "\n",
    "    def call(self, inputs):\n",
    "      x = keras.ops.matmul(inputs, self.w) + self.b\n",
    "      return self.activation(x)"
   ]
  },
  {
   "cell_type": "code",
   "execution_count": 29,
   "id": "695bf3de",
   "metadata": {},
   "outputs": [
    {
     "data": {
      "text/plain": [
       "<tf.Tensor: shape=(64, 10000), dtype=float32, numpy=\n",
       "array([[ 7.700217 ,  1.2264812,  1.3259579, ...,  0.       ,  0.       ,\n",
       "         0.       ],\n",
       "       [23.10065  ,  0.       ,  0.       , ...,  0.       ,  0.       ,\n",
       "         0.       ],\n",
       "       [ 0.       ,  0.       ,  1.3259579, ...,  0.       ,  0.       ,\n",
       "         0.       ],\n",
       "       ...,\n",
       "       [15.400434 ,  0.       ,  1.3259579, ...,  0.       ,  0.       ,\n",
       "         0.       ],\n",
       "       [ 0.       ,  0.       ,  1.3259579, ...,  0.       ,  0.       ,\n",
       "         0.       ],\n",
       "       [ 0.       ,  1.2264812,  0.       , ...,  0.       ,  0.       ,\n",
       "         0.       ]], dtype=float32)>"
      ]
     },
     "execution_count": 29,
     "metadata": {},
     "output_type": "execute_result"
    }
   ],
   "source": [
    "test_batch = next(iter(test_ds))\n",
    "test_batch[0]"
   ]
  },
  {
   "cell_type": "code",
   "execution_count": 30,
   "id": "7c42e547",
   "metadata": {},
   "outputs": [
    {
     "data": {
      "text/plain": [
       "<tf.Tensor: shape=(64, 10000), dtype=float32, numpy=\n",
       "array([[ 0.       ,  0.       ,  1.3259579, ...,  0.       ,  0.       ,\n",
       "         0.       ],\n",
       "       [15.400434 ,  0.       ,  1.3259579, ...,  0.       ,  0.       ,\n",
       "         0.       ],\n",
       "       [15.400434 ,  2.4529624,  1.3259579, ...,  0.       ,  0.       ,\n",
       "         0.       ],\n",
       "       ...,\n",
       "       [ 0.       ,  0.       ,  1.3259579, ...,  0.       ,  0.       ,\n",
       "         0.       ],\n",
       "       [ 0.       ,  0.       ,  0.       , ...,  0.       ,  0.       ,\n",
       "         0.       ],\n",
       "       [15.400434 ,  1.2264812,  1.3259579, ...,  0.       ,  0.       ,\n",
       "         0.       ]], dtype=float32)>"
      ]
     },
     "execution_count": 30,
     "metadata": {},
     "output_type": "execute_result"
    }
   ],
   "source": [
    "val_batch = next(iter(val_ds))\n",
    "val_batch[0]"
   ]
  },
  {
   "cell_type": "code",
   "execution_count": 34,
   "id": "0171b913",
   "metadata": {},
   "outputs": [],
   "source": [
    "from tensorflow.keras.layers import Dropout \n",
    "\n",
    "class Model(keras.Model):\n",
    "    def __init__(self, activation):\n",
    "        super().__init__()\n",
    "        self.l1 = Linear(24, activation=activation)\n",
    "        Dropout(0.5)\n",
    "        self.l2 = Linear(18)\n",
    "        Dropout(0.5)\n",
    "        self.l3 = Linear(18, activation=activation)\n",
    "        Dropout(0.5)\n",
    "        self.l4 = Linear(18)\n",
    "        Dropout(0.5)\n",
    "        self.l5 = Linear(6, activation=activation)\n",
    "     \n",
    "\n",
    "    def call(self, x):\n",
    "        x = self.l1(x)\n",
    "        x = self.l2(x)\n",
    "        x = self.l3(x)\n",
    "        x = self.l4(x)\n",
    "        x = self.l5(x)\n",
    "        return x\n",
    "\n",
    "model = Model('softmax')"
   ]
  },
  {
   "cell_type": "code",
   "execution_count": 35,
   "id": "2f2f2a17",
   "metadata": {},
   "outputs": [
    {
     "data": {
      "text/plain": [
       "(torch.Size([64, 6]), TensorShape([64, 6]))"
      ]
     },
     "execution_count": 35,
     "metadata": {},
     "output_type": "execute_result"
    }
   ],
   "source": [
    "model(test_batch[0]).shape, test_batch[1].shape"
   ]
  },
  {
   "cell_type": "code",
   "execution_count": 36,
   "id": "305da050",
   "metadata": {},
   "outputs": [
    {
     "name": "stdout",
     "output_type": "stream",
     "text": [
      "Epoch 1/15\n",
      "\u001b[1m509/509\u001b[0m \u001b[32m━━━━━━━━━━━━━━━━━━━━\u001b[0m\u001b[37m\u001b[0m \u001b[1m17s\u001b[0m 33ms/step - accuracy: 0.3647 - loss: 1.6131 - val_accuracy: 0.7227 - val_loss: 0.7037\n",
      "Epoch 2/15\n",
      "\u001b[1m509/509\u001b[0m \u001b[32m━━━━━━━━━━━━━━━━━━━━\u001b[0m\u001b[37m\u001b[0m \u001b[1m16s\u001b[0m 31ms/step - accuracy: 0.7965 - loss: 0.5404 - val_accuracy: 0.8050 - val_loss: 0.4876\n",
      "Epoch 3/15\n",
      "\u001b[1m509/509\u001b[0m \u001b[32m━━━━━━━━━━━━━━━━━━━━\u001b[0m\u001b[37m\u001b[0m \u001b[1m16s\u001b[0m 31ms/step - accuracy: 0.8854 - loss: 0.3065 - val_accuracy: 0.8192 - val_loss: 0.5101\n",
      "Epoch 4/15\n",
      "\u001b[1m509/509\u001b[0m \u001b[32m━━━━━━━━━━━━━━━━━━━━\u001b[0m\u001b[37m\u001b[0m \u001b[1m16s\u001b[0m 31ms/step - accuracy: 0.9335 - loss: 0.1966 - val_accuracy: 0.8113 - val_loss: 0.5802\n",
      "Epoch 5/15\n",
      "\u001b[1m509/509\u001b[0m \u001b[32m━━━━━━━━━━━━━━━━━━━━\u001b[0m\u001b[37m\u001b[0m \u001b[1m16s\u001b[0m 31ms/step - accuracy: 0.9602 - loss: 0.1309 - val_accuracy: 0.8070 - val_loss: 0.6716\n",
      "Epoch 6/15\n",
      "\u001b[1m509/509\u001b[0m \u001b[32m━━━━━━━━━━━━━━━━━━━━\u001b[0m\u001b[37m\u001b[0m \u001b[1m16s\u001b[0m 32ms/step - accuracy: 0.9714 - loss: 0.0944 - val_accuracy: 0.7952 - val_loss: 0.7903\n",
      "\u001b[1m112/112\u001b[0m \u001b[32m━━━━━━━━━━━━━━━━━━━━\u001b[0m\u001b[37m\u001b[0m \u001b[1m3s\u001b[0m 26ms/step\n",
      "\u001b[1m112/112\u001b[0m \u001b[32m━━━━━━━━━━━━━━━━━━━━\u001b[0m\u001b[37m\u001b[0m \u001b[1m3s\u001b[0m 27ms/step - accuracy: 0.8036 - loss: 0.7558\n"
     ]
    },
    {
     "data": {
      "text/plain": [
       "[0.7700995206832886, 0.8034836649894714]"
      ]
     },
     "execution_count": 36,
     "metadata": {},
     "output_type": "execute_result"
    }
   ],
   "source": [
    "from tensorflow.keras.callbacks import EarlyStopping, ModelCheckpoint\n",
    "\n",
    "# Definir los callbacks\n",
    "callbacks = [\n",
    "    EarlyStopping(monitor='val_loss', patience=4),  # Detener cuando la pérdida de validación no mejore por 3 épocas consecutivas.\n",
    "    ModelCheckpoint(filepath='best_model.keras', monitor='val_loss', save_best_only=True)  # Guardar el mejor modelo.\n",
    "]\n",
    "\n",
    "model.compile(\n",
    "    optimizer=keras.optimizers.Adam(),\n",
    "    loss='categorical_crossentropy',\n",
    "    metrics=[\"accuracy\"]\n",
    ")\n",
    "\n",
    "history = model.fit(\n",
    "    train_ds,\n",
    "    validation_data=val_ds,\n",
    "    epochs=15,\n",
    "    callbacks=callbacks,\n",
    "    batch_size=val_batch\n",
    ")\n",
    "\n",
    "y_pred_score = model.predict(\n",
    "    test_ds,\n",
    "    callbacks=callbacks\n",
    ")\n",
    "\n",
    "\n",
    "model.evaluate(\n",
    "    test_ds,\n",
    "    batch_size=test_batch\n",
    ")"
   ]
  },
  {
   "cell_type": "code",
   "execution_count": 37,
   "id": "f53b10a6",
   "metadata": {},
   "outputs": [
    {
     "data": {
      "text/plain": [
       "{'accuracy': [0.5319050550460815,\n",
       "  0.8153316378593445,\n",
       "  0.8892850279808044,\n",
       "  0.9308415651321411,\n",
       "  0.9561074376106262,\n",
       "  0.9700620770454407],\n",
       " 'loss': [1.274846076965332,\n",
       "  0.4787665009498596,\n",
       "  0.29345759749412537,\n",
       "  0.19718673825263977,\n",
       "  0.1340521275997162,\n",
       "  0.09549491852521896],\n",
       " 'val_accuracy': [0.7226749062538147,\n",
       "  0.8050013780593872,\n",
       "  0.8191908001899719,\n",
       "  0.8113234043121338,\n",
       "  0.8069682717323303,\n",
       "  0.7951672077178955],\n",
       " 'val_loss': [0.7036875486373901,\n",
       "  0.4875989258289337,\n",
       "  0.5100648403167725,\n",
       "  0.5801635384559631,\n",
       "  0.6715729236602783,\n",
       "  0.790323793888092]}"
      ]
     },
     "execution_count": 37,
     "metadata": {},
     "output_type": "execute_result"
    }
   ],
   "source": [
    "history.history"
   ]
  },
  {
   "cell_type": "code",
   "execution_count": 38,
   "id": "4a46272a",
   "metadata": {},
   "outputs": [
    {
     "data": {
      "image/png": "[encoded data removed]",
      "text/plain": [
       "<Figure size 1000x500 with 2 Axes>"
      ]
     },
     "metadata": {},
     "output_type": "display_data"
    }
   ],
   "source": [
    "import numpy as np\n",
    "import matplotlib.pyplot as plt\n",
    "\n",
    "# Crear figura con dos subplots\n",
    "fig, (ax1, ax2) = plt.subplots(1, 2, figsize=(10, 5))\n",
    "\n",
    "# Plot de accuracy en el primer subplot\n",
    "ax1.plot(history.history['accuracy'], 'bo-', label='Accuracy')\n",
    "ax1.plot(history.history['val_accuracy'], 'ro-', label='Validation Accuracy')\n",
    "ax1.set_title('Accuracy')\n",
    "ax1.set_xlabel('Época')\n",
    "ax1.set_ylabel('Accuracy')\n",
    "ax1.legend()\n",
    "\n",
    "# Plot de error en el segundo subplot\n",
    "ax2.plot(history.history['loss'], 'bo-', label='Loss')\n",
    "ax2.plot(history.history['val_loss'], 'ro-', label='Validation Loss')\n",
    "ax2.set_title('Error')\n",
    "ax2.set_xlabel('Época')\n",
    "ax2.set_ylabel('Error')\n",
    "ax2.legend()\n",
    "\n",
    "# Mostrar figura\n",
    "plt.show()"
   ]
  },
  {
   "cell_type": "code",
   "execution_count": 39,
   "id": "7f26200b",
   "metadata": {},
   "outputs": [
    {
     "data": {
      "image/png": "[encoded data removed]",
      "text/plain": [
       "<Figure size 1500x1500 with 2 Axes>"
      ]
     },
     "metadata": {},
     "output_type": "display_data"
    }
   ],
   "source": [
    "from sklearn.metrics import confusion_matrix, ConfusionMatrixDisplay\n",
    "\n",
    "y_pred = np.argmax(y_pred_score, axis=1)\n",
    "y_true = np.argmax(y_test, axis=1)\n",
    "conf_matrix = confusion_matrix(y_true, y_pred)\n",
    "\n",
    "nombres_clase = ['not_cyberbullying', 'gender', 'religion', 'other_cyberbullying', 'age', 'ethnicity']\n",
    "\n",
    "plt.figure(figsize=(15,15))\n",
    "disp = ConfusionMatrixDisplay(confusion_matrix=conf_matrix, display_labels=nombres_clase)\n",
    "disp.plot(cmap=plt.cm.Blues, ax=plt.gca())\n",
    "plt.title(\"Matriz de Confusión\")\n",
    "plt.show()"
   ]
  }
 ],
 "metadata": {
  "kernelspec": {
   "display_name": "Python 3 (ipykernel)",
   "language": "python",
   "name": "python3"
  },
  "language_info": {
   "codemirror_mode": {
    "name": "ipython",
    "version": 3
   },
   "file_extension": ".py",
   "mimetype": "text/x-python",
   "name": "python",
   "nbconvert_exporter": "python",
   "pygments_lexer": "ipython3",
   "version": "3.11.3"
  }
 },
 "nbformat": 4,
 "nbformat_minor": 5
}
